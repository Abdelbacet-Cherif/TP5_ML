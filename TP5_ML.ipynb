{
 "cells": [
  {
   "cell_type": "code",
   "execution_count": 4,
   "metadata": {},
   "outputs": [],
   "source": [
    "from  datetime import datetime, timedelta\n",
    "import gc\n",
    "import numpy as np, pandas as pd\n",
    "import lightgbm as lgb"
   ]
  },
  {
   "cell_type": "code",
   "execution_count": 5,
   "metadata": {},
   "outputs": [],
   "source": [
    "CAL_DTYPES={\"event_name_1\": \"category\", \"event_name_2\": \"category\", \"event_type_1\": \"category\", \n",
    "         \"event_type_2\": \"category\", \"weekday\": \"category\", 'wm_yr_wk': 'int16', \"wday\": \"int16\",\n",
    "        \"month\": \"int16\", \"year\": \"int16\", \"snap_CA\": \"float32\", 'snap_TX': 'float32', 'snap_WI': 'float32' }\n",
    "PRICE_DTYPES = {\"store_id\": \"category\", \"item_id\": \"category\", \"wm_yr_wk\": \"int16\",\"sell_price\":\"float32\" }"
   ]
  },
  {
   "cell_type": "code",
   "execution_count": 6,
   "metadata": {},
   "outputs": [],
   "source": [
    "pd.options.display.max_columns = 50"
   ]
  },
  {
   "cell_type": "code",
   "execution_count": 7,
   "metadata": {
    "_cell_guid": "b1076dfc-b9ad-4769-8c92-a6c4dae69d19",
    "_uuid": "8f2839f25d086af736a60e9eeb907d3b93b6e0e5"
   },
   "outputs": [
    {
     "data": {
      "text/plain": [
       "(datetime.datetime(2016, 5, 23, 0, 0), 1941, 57)"
      ]
     },
     "execution_count": 7,
     "metadata": {},
     "output_type": "execute_result"
    }
   ],
   "source": [
    "h = 28 \n",
    "max_lags = 57\n",
    "\n",
    "tr_last = 1913 + 28\n",
    "\n",
    "fday = datetime(2016,4, 25) + timedelta(days= 28)\n",
    "fday,tr_last,max_lags"
   ]
  },
  {
   "cell_type": "code",
   "execution_count": 21,
   "metadata": {},
   "outputs": [],
   "source": [
    "def create_dt(is_train = True, nrows = None, first_day = 1200):\n",
    "    prices = pd.read_csv(\"C://Users/acherif003/Desktop/tp5/sell_prices.csv\", dtype = PRICE_DTYPES)\n",
    "    for col, col_dtype in PRICE_DTYPES.items():\n",
    "        if col_dtype == \"category\":\n",
    "            prices[col] = prices[col].cat.codes.astype(\"int16\")\n",
    "            prices[col] -= prices[col].min()\n",
    "            \n",
    "    cal = pd.read_csv(\"C://Users/acherif003/Desktop/tp5/calendar.csv\", dtype = CAL_DTYPES)\n",
    "    cal[\"date\"] = pd.to_datetime(cal[\"date\"])\n",
    "    for col, col_dtype in CAL_DTYPES.items():\n",
    "        if col_dtype == \"category\":\n",
    "            cal[col] = cal[col].cat.codes.astype(\"int16\")\n",
    "            cal[col] -= cal[col].min()\n",
    "    \n",
    "    start_day = max(1 if is_train  else tr_last-max_lags, first_day)\n",
    "    numcols = [f\"d_{day}\" for day in range(start_day,tr_last+1)]\n",
    "    catcols = ['id', 'item_id', 'dept_id','store_id', 'cat_id', 'state_id']\n",
    "    dtype = {numcol:\"float32\" for numcol in numcols} \n",
    "    dtype.update({col: \"category\" for col in catcols if col != \"id\"})\n",
    "\n",
    "    dt = pd.read_csv(\"C://Users/acherif003/Desktop/tp5/sales_train_evaluation.csv\", \n",
    "                     nrows = nrows, usecols = catcols + numcols, dtype = dtype)\n",
    "    \n",
    "    for col in catcols:\n",
    "        if col != \"id\":\n",
    "            dt[col] = dt[col].cat.codes.astype(\"int16\")\n",
    "            dt[col] -= dt[col].min()\n",
    "    \n",
    "    if not is_train:\n",
    "        for day in range(tr_last+1, tr_last+ 28 +1):\n",
    "            dt[f\"d_{day}\"] = np.nan\n",
    "    \n",
    "    dt = pd.melt(dt,\n",
    "                  id_vars = catcols,\n",
    "                  value_vars = [col for col in dt.columns if col.startswith(\"d_\")],\n",
    "                  var_name = \"d\",\n",
    "                  value_name = \"sales\")\n",
    "    \n",
    "    dt = dt.merge(cal, on= \"d\", copy = False)\n",
    "    dt = dt.merge(prices, on = [\"store_id\", \"item_id\", \"wm_yr_wk\"], copy = False)\n",
    "    \n",
    "    return dt"
   ]
  },
  {
   "cell_type": "code",
   "execution_count": 22,
   "metadata": {},
   "outputs": [],
   "source": [
    "def create_fea(dt):\n",
    "    lags = [7, 28]\n",
    "    lag_cols = [f\"lag_{lag}\" for lag in lags ]\n",
    "    for lag, lag_col in zip(lags, lag_cols):\n",
    "        dt[lag_col] = dt[[\"id\",\"sales\"]].groupby(\"id\")[\"sales\"].shift(lag)\n",
    "\n",
    "    wins = [7, 28]\n",
    "    for win in wins :\n",
    "        for lag,lag_col in zip(lags, lag_cols):\n",
    "            dt[f\"rmean_{lag}_{win}\"] = dt[[\"id\", lag_col]].groupby(\"id\")[lag_col].transform(lambda x : x.rolling(win).mean())\n",
    "\n",
    "    \n",
    "    \n",
    "    date_features = {\n",
    "        \n",
    "        \"wday\": \"weekday\",\n",
    "        \"week\": \"weekofyear\",\n",
    "        \"month\": \"month\",\n",
    "        \"quarter\": \"quarter\",\n",
    "        \"year\": \"year\",\n",
    "        \"mday\": \"day\",\n",
    "    }\n",
    "        \n",
    "    for date_feat_name, date_feat_func in date_features.items():\n",
    "        if date_feat_name in dt.columns:\n",
    "            dt[date_feat_name] = dt[date_feat_name].astype(\"int16\")\n",
    "        else:\n",
    "            dt[date_feat_name] = getattr(dt[\"date\"].dt, date_feat_func).astype(\"int16\")"
   ]
  },
  {
   "cell_type": "code",
   "execution_count": 23,
   "metadata": {},
   "outputs": [],
   "source": [
    "FIRST_DAY = 350"
   ]
  },
  {
   "cell_type": "code",
   "execution_count": 26,
   "metadata": {},
   "outputs": [
    {
     "name": "stdout",
     "output_type": "stream",
     "text": [
      "Wall time: 30.1 s\n"
     ]
    },
    {
     "data": {
      "text/plain": [
       "(41571939, 22)"
      ]
     },
     "execution_count": 26,
     "metadata": {},
     "output_type": "execute_result"
    }
   ],
   "source": [
    "%%time\n",
    "\n",
    "df = create_dt(is_train=True, first_day= FIRST_DAY)\n",
    "df.shape"
   ]
  },
  {
   "cell_type": "code",
   "execution_count": 27,
   "metadata": {},
   "outputs": [
    {
     "data": {
      "text/html": [
       "<div>\n",
       "<style scoped>\n",
       "    .dataframe tbody tr th:only-of-type {\n",
       "        vertical-align: middle;\n",
       "    }\n",
       "\n",
       "    .dataframe tbody tr th {\n",
       "        vertical-align: top;\n",
       "    }\n",
       "\n",
       "    .dataframe thead th {\n",
       "        text-align: right;\n",
       "    }\n",
       "</style>\n",
       "<table border=\"1\" class=\"dataframe\">\n",
       "  <thead>\n",
       "    <tr style=\"text-align: right;\">\n",
       "      <th></th>\n",
       "      <th>id</th>\n",
       "      <th>item_id</th>\n",
       "      <th>dept_id</th>\n",
       "      <th>store_id</th>\n",
       "      <th>cat_id</th>\n",
       "      <th>state_id</th>\n",
       "      <th>d</th>\n",
       "      <th>sales</th>\n",
       "      <th>date</th>\n",
       "      <th>wm_yr_wk</th>\n",
       "      <th>weekday</th>\n",
       "      <th>wday</th>\n",
       "      <th>month</th>\n",
       "      <th>year</th>\n",
       "      <th>event_name_1</th>\n",
       "      <th>event_type_1</th>\n",
       "      <th>event_name_2</th>\n",
       "      <th>event_type_2</th>\n",
       "      <th>snap_CA</th>\n",
       "      <th>snap_TX</th>\n",
       "      <th>snap_WI</th>\n",
       "      <th>sell_price</th>\n",
       "    </tr>\n",
       "  </thead>\n",
       "  <tbody>\n",
       "    <tr>\n",
       "      <th>0</th>\n",
       "      <td>HOBBIES_1_002_CA_1_evaluation</td>\n",
       "      <td>1</td>\n",
       "      <td>0</td>\n",
       "      <td>0</td>\n",
       "      <td>0</td>\n",
       "      <td>0</td>\n",
       "      <td>d_350</td>\n",
       "      <td>0.0</td>\n",
       "      <td>2012-01-13</td>\n",
       "      <td>11150</td>\n",
       "      <td>0</td>\n",
       "      <td>7</td>\n",
       "      <td>1</td>\n",
       "      <td>2012</td>\n",
       "      <td>0</td>\n",
       "      <td>0</td>\n",
       "      <td>0</td>\n",
       "      <td>0</td>\n",
       "      <td>0.0</td>\n",
       "      <td>1.0</td>\n",
       "      <td>0.0</td>\n",
       "      <td>3.97</td>\n",
       "    </tr>\n",
       "    <tr>\n",
       "      <th>1</th>\n",
       "      <td>HOBBIES_1_004_CA_1_evaluation</td>\n",
       "      <td>3</td>\n",
       "      <td>0</td>\n",
       "      <td>0</td>\n",
       "      <td>0</td>\n",
       "      <td>0</td>\n",
       "      <td>d_350</td>\n",
       "      <td>2.0</td>\n",
       "      <td>2012-01-13</td>\n",
       "      <td>11150</td>\n",
       "      <td>0</td>\n",
       "      <td>7</td>\n",
       "      <td>1</td>\n",
       "      <td>2012</td>\n",
       "      <td>0</td>\n",
       "      <td>0</td>\n",
       "      <td>0</td>\n",
       "      <td>0</td>\n",
       "      <td>0.0</td>\n",
       "      <td>1.0</td>\n",
       "      <td>0.0</td>\n",
       "      <td>4.34</td>\n",
       "    </tr>\n",
       "    <tr>\n",
       "      <th>2</th>\n",
       "      <td>HOBBIES_1_005_CA_1_evaluation</td>\n",
       "      <td>4</td>\n",
       "      <td>0</td>\n",
       "      <td>0</td>\n",
       "      <td>0</td>\n",
       "      <td>0</td>\n",
       "      <td>d_350</td>\n",
       "      <td>0.0</td>\n",
       "      <td>2012-01-13</td>\n",
       "      <td>11150</td>\n",
       "      <td>0</td>\n",
       "      <td>7</td>\n",
       "      <td>1</td>\n",
       "      <td>2012</td>\n",
       "      <td>0</td>\n",
       "      <td>0</td>\n",
       "      <td>0</td>\n",
       "      <td>0</td>\n",
       "      <td>0.0</td>\n",
       "      <td>1.0</td>\n",
       "      <td>0.0</td>\n",
       "      <td>2.48</td>\n",
       "    </tr>\n",
       "    <tr>\n",
       "      <th>3</th>\n",
       "      <td>HOBBIES_1_008_CA_1_evaluation</td>\n",
       "      <td>7</td>\n",
       "      <td>0</td>\n",
       "      <td>0</td>\n",
       "      <td>0</td>\n",
       "      <td>0</td>\n",
       "      <td>d_350</td>\n",
       "      <td>0.0</td>\n",
       "      <td>2012-01-13</td>\n",
       "      <td>11150</td>\n",
       "      <td>0</td>\n",
       "      <td>7</td>\n",
       "      <td>1</td>\n",
       "      <td>2012</td>\n",
       "      <td>0</td>\n",
       "      <td>0</td>\n",
       "      <td>0</td>\n",
       "      <td>0</td>\n",
       "      <td>0.0</td>\n",
       "      <td>1.0</td>\n",
       "      <td>0.0</td>\n",
       "      <td>0.50</td>\n",
       "    </tr>\n",
       "    <tr>\n",
       "      <th>4</th>\n",
       "      <td>HOBBIES_1_009_CA_1_evaluation</td>\n",
       "      <td>8</td>\n",
       "      <td>0</td>\n",
       "      <td>0</td>\n",
       "      <td>0</td>\n",
       "      <td>0</td>\n",
       "      <td>d_350</td>\n",
       "      <td>2.0</td>\n",
       "      <td>2012-01-13</td>\n",
       "      <td>11150</td>\n",
       "      <td>0</td>\n",
       "      <td>7</td>\n",
       "      <td>1</td>\n",
       "      <td>2012</td>\n",
       "      <td>0</td>\n",
       "      <td>0</td>\n",
       "      <td>0</td>\n",
       "      <td>0</td>\n",
       "      <td>0.0</td>\n",
       "      <td>1.0</td>\n",
       "      <td>0.0</td>\n",
       "      <td>1.77</td>\n",
       "    </tr>\n",
       "  </tbody>\n",
       "</table>\n",
       "</div>"
      ],
      "text/plain": [
       "                              id  item_id  dept_id  store_id  cat_id  \\\n",
       "0  HOBBIES_1_002_CA_1_evaluation        1        0         0       0   \n",
       "1  HOBBIES_1_004_CA_1_evaluation        3        0         0       0   \n",
       "2  HOBBIES_1_005_CA_1_evaluation        4        0         0       0   \n",
       "3  HOBBIES_1_008_CA_1_evaluation        7        0         0       0   \n",
       "4  HOBBIES_1_009_CA_1_evaluation        8        0         0       0   \n",
       "\n",
       "   state_id      d  sales       date  wm_yr_wk  weekday  wday  month  year  \\\n",
       "0         0  d_350    0.0 2012-01-13     11150        0     7      1  2012   \n",
       "1         0  d_350    2.0 2012-01-13     11150        0     7      1  2012   \n",
       "2         0  d_350    0.0 2012-01-13     11150        0     7      1  2012   \n",
       "3         0  d_350    0.0 2012-01-13     11150        0     7      1  2012   \n",
       "4         0  d_350    2.0 2012-01-13     11150        0     7      1  2012   \n",
       "\n",
       "   event_name_1  event_type_1  event_name_2  event_type_2  snap_CA  snap_TX  \\\n",
       "0             0             0             0             0      0.0      1.0   \n",
       "1             0             0             0             0      0.0      1.0   \n",
       "2             0             0             0             0      0.0      1.0   \n",
       "3             0             0             0             0      0.0      1.0   \n",
       "4             0             0             0             0      0.0      1.0   \n",
       "\n",
       "   snap_WI  sell_price  \n",
       "0      0.0        3.97  \n",
       "1      0.0        4.34  \n",
       "2      0.0        2.48  \n",
       "3      0.0        0.50  \n",
       "4      0.0        1.77  "
      ]
     },
     "execution_count": 27,
     "metadata": {},
     "output_type": "execute_result"
    }
   ],
   "source": [
    "df.head()"
   ]
  },
  {
   "cell_type": "code",
   "execution_count": 28,
   "metadata": {},
   "outputs": [
    {
     "name": "stdout",
     "output_type": "stream",
     "text": [
      "<class 'pandas.core.frame.DataFrame'>\n",
      "Int64Index: 41571939 entries, 0 to 41571938\n",
      "Data columns (total 22 columns):\n",
      " #   Column        Dtype         \n",
      "---  ------        -----         \n",
      " 0   id            object        \n",
      " 1   item_id       int16         \n",
      " 2   dept_id       int16         \n",
      " 3   store_id      int16         \n",
      " 4   cat_id        int16         \n",
      " 5   state_id      int16         \n",
      " 6   d             object        \n",
      " 7   sales         float32       \n",
      " 8   date          datetime64[ns]\n",
      " 9   wm_yr_wk      int16         \n",
      " 10  weekday       int16         \n",
      " 11  wday          int16         \n",
      " 12  month         int16         \n",
      " 13  year          int16         \n",
      " 14  event_name_1  int16         \n",
      " 15  event_type_1  int16         \n",
      " 16  event_name_2  int16         \n",
      " 17  event_type_2  int16         \n",
      " 18  snap_CA       float32       \n",
      " 19  snap_TX       float32       \n",
      " 20  snap_WI       float32       \n",
      " 21  sell_price    float32       \n",
      "dtypes: datetime64[ns](1), float32(5), int16(14), object(2)\n",
      "memory usage: 3.1+ GB\n"
     ]
    }
   ],
   "source": [
    "df.info()"
   ]
  },
  {
   "cell_type": "code",
   "execution_count": 29,
   "metadata": {},
   "outputs": [
    {
     "name": "stderr",
     "output_type": "stream",
     "text": [
      "C:\\Users\\acherif003\\AppData\\Local\\Temp\\ipykernel_26320\\2130825514.py:32: FutureWarning: Series.dt.weekofyear and Series.dt.week have been deprecated. Please use Series.dt.isocalendar().week instead.\n",
      "  dt[date_feat_name] = getattr(dt[\"date\"].dt, date_feat_func).astype(\"int16\")\n"
     ]
    },
    {
     "name": "stdout",
     "output_type": "stream",
     "text": [
      "Wall time: 1min 55s\n"
     ]
    },
    {
     "data": {
      "text/plain": [
       "(41571939, 31)"
      ]
     },
     "execution_count": 29,
     "metadata": {},
     "output_type": "execute_result"
    }
   ],
   "source": [
    "%%time\n",
    "\n",
    "create_fea(df)\n",
    "df.shape"
   ]
  },
  {
   "cell_type": "code",
   "execution_count": 30,
   "metadata": {},
   "outputs": [
    {
     "name": "stdout",
     "output_type": "stream",
     "text": [
      "<class 'pandas.core.frame.DataFrame'>\n",
      "Int64Index: 41571939 entries, 0 to 41571938\n",
      "Data columns (total 31 columns):\n",
      " #   Column        Dtype         \n",
      "---  ------        -----         \n",
      " 0   id            object        \n",
      " 1   item_id       int16         \n",
      " 2   dept_id       int16         \n",
      " 3   store_id      int16         \n",
      " 4   cat_id        int16         \n",
      " 5   state_id      int16         \n",
      " 6   d             object        \n",
      " 7   sales         float32       \n",
      " 8   date          datetime64[ns]\n",
      " 9   wm_yr_wk      int16         \n",
      " 10  weekday       int16         \n",
      " 11  wday          int16         \n",
      " 12  month         int16         \n",
      " 13  year          int16         \n",
      " 14  event_name_1  int16         \n",
      " 15  event_type_1  int16         \n",
      " 16  event_name_2  int16         \n",
      " 17  event_type_2  int16         \n",
      " 18  snap_CA       float32       \n",
      " 19  snap_TX       float32       \n",
      " 20  snap_WI       float32       \n",
      " 21  sell_price    float32       \n",
      " 22  lag_7         float32       \n",
      " 23  lag_28        float32       \n",
      " 24  rmean_7_7     float64       \n",
      " 25  rmean_28_7    float64       \n",
      " 26  rmean_7_28    float64       \n",
      " 27  rmean_28_28   float64       \n",
      " 28  week          int16         \n",
      " 29  quarter       int16         \n",
      " 30  mday          int16         \n",
      "dtypes: datetime64[ns](1), float32(7), float64(4), int16(17), object(2)\n",
      "memory usage: 4.9+ GB\n"
     ]
    }
   ],
   "source": [
    "df.info()"
   ]
  },
  {
   "cell_type": "code",
   "execution_count": 31,
   "metadata": {},
   "outputs": [
    {
     "data": {
      "text/html": [
       "<div>\n",
       "<style scoped>\n",
       "    .dataframe tbody tr th:only-of-type {\n",
       "        vertical-align: middle;\n",
       "    }\n",
       "\n",
       "    .dataframe tbody tr th {\n",
       "        vertical-align: top;\n",
       "    }\n",
       "\n",
       "    .dataframe thead th {\n",
       "        text-align: right;\n",
       "    }\n",
       "</style>\n",
       "<table border=\"1\" class=\"dataframe\">\n",
       "  <thead>\n",
       "    <tr style=\"text-align: right;\">\n",
       "      <th></th>\n",
       "      <th>id</th>\n",
       "      <th>item_id</th>\n",
       "      <th>dept_id</th>\n",
       "      <th>store_id</th>\n",
       "      <th>cat_id</th>\n",
       "      <th>state_id</th>\n",
       "      <th>d</th>\n",
       "      <th>sales</th>\n",
       "      <th>date</th>\n",
       "      <th>wm_yr_wk</th>\n",
       "      <th>weekday</th>\n",
       "      <th>wday</th>\n",
       "      <th>month</th>\n",
       "      <th>year</th>\n",
       "      <th>event_name_1</th>\n",
       "      <th>event_type_1</th>\n",
       "      <th>event_name_2</th>\n",
       "      <th>event_type_2</th>\n",
       "      <th>snap_CA</th>\n",
       "      <th>snap_TX</th>\n",
       "      <th>snap_WI</th>\n",
       "      <th>sell_price</th>\n",
       "      <th>lag_7</th>\n",
       "      <th>lag_28</th>\n",
       "      <th>rmean_7_7</th>\n",
       "      <th>rmean_28_7</th>\n",
       "      <th>rmean_7_28</th>\n",
       "      <th>rmean_28_28</th>\n",
       "      <th>week</th>\n",
       "      <th>quarter</th>\n",
       "      <th>mday</th>\n",
       "    </tr>\n",
       "  </thead>\n",
       "  <tbody>\n",
       "    <tr>\n",
       "      <th>0</th>\n",
       "      <td>HOBBIES_1_002_CA_1_evaluation</td>\n",
       "      <td>1</td>\n",
       "      <td>0</td>\n",
       "      <td>0</td>\n",
       "      <td>0</td>\n",
       "      <td>0</td>\n",
       "      <td>d_350</td>\n",
       "      <td>0.0</td>\n",
       "      <td>2012-01-13</td>\n",
       "      <td>11150</td>\n",
       "      <td>0</td>\n",
       "      <td>7</td>\n",
       "      <td>1</td>\n",
       "      <td>2012</td>\n",
       "      <td>0</td>\n",
       "      <td>0</td>\n",
       "      <td>0</td>\n",
       "      <td>0</td>\n",
       "      <td>0.0</td>\n",
       "      <td>1.0</td>\n",
       "      <td>0.0</td>\n",
       "      <td>3.97</td>\n",
       "      <td>NaN</td>\n",
       "      <td>NaN</td>\n",
       "      <td>NaN</td>\n",
       "      <td>NaN</td>\n",
       "      <td>NaN</td>\n",
       "      <td>NaN</td>\n",
       "      <td>2</td>\n",
       "      <td>1</td>\n",
       "      <td>13</td>\n",
       "    </tr>\n",
       "    <tr>\n",
       "      <th>1</th>\n",
       "      <td>HOBBIES_1_004_CA_1_evaluation</td>\n",
       "      <td>3</td>\n",
       "      <td>0</td>\n",
       "      <td>0</td>\n",
       "      <td>0</td>\n",
       "      <td>0</td>\n",
       "      <td>d_350</td>\n",
       "      <td>2.0</td>\n",
       "      <td>2012-01-13</td>\n",
       "      <td>11150</td>\n",
       "      <td>0</td>\n",
       "      <td>7</td>\n",
       "      <td>1</td>\n",
       "      <td>2012</td>\n",
       "      <td>0</td>\n",
       "      <td>0</td>\n",
       "      <td>0</td>\n",
       "      <td>0</td>\n",
       "      <td>0.0</td>\n",
       "      <td>1.0</td>\n",
       "      <td>0.0</td>\n",
       "      <td>4.34</td>\n",
       "      <td>NaN</td>\n",
       "      <td>NaN</td>\n",
       "      <td>NaN</td>\n",
       "      <td>NaN</td>\n",
       "      <td>NaN</td>\n",
       "      <td>NaN</td>\n",
       "      <td>2</td>\n",
       "      <td>1</td>\n",
       "      <td>13</td>\n",
       "    </tr>\n",
       "    <tr>\n",
       "      <th>2</th>\n",
       "      <td>HOBBIES_1_005_CA_1_evaluation</td>\n",
       "      <td>4</td>\n",
       "      <td>0</td>\n",
       "      <td>0</td>\n",
       "      <td>0</td>\n",
       "      <td>0</td>\n",
       "      <td>d_350</td>\n",
       "      <td>0.0</td>\n",
       "      <td>2012-01-13</td>\n",
       "      <td>11150</td>\n",
       "      <td>0</td>\n",
       "      <td>7</td>\n",
       "      <td>1</td>\n",
       "      <td>2012</td>\n",
       "      <td>0</td>\n",
       "      <td>0</td>\n",
       "      <td>0</td>\n",
       "      <td>0</td>\n",
       "      <td>0.0</td>\n",
       "      <td>1.0</td>\n",
       "      <td>0.0</td>\n",
       "      <td>2.48</td>\n",
       "      <td>NaN</td>\n",
       "      <td>NaN</td>\n",
       "      <td>NaN</td>\n",
       "      <td>NaN</td>\n",
       "      <td>NaN</td>\n",
       "      <td>NaN</td>\n",
       "      <td>2</td>\n",
       "      <td>1</td>\n",
       "      <td>13</td>\n",
       "    </tr>\n",
       "    <tr>\n",
       "      <th>3</th>\n",
       "      <td>HOBBIES_1_008_CA_1_evaluation</td>\n",
       "      <td>7</td>\n",
       "      <td>0</td>\n",
       "      <td>0</td>\n",
       "      <td>0</td>\n",
       "      <td>0</td>\n",
       "      <td>d_350</td>\n",
       "      <td>0.0</td>\n",
       "      <td>2012-01-13</td>\n",
       "      <td>11150</td>\n",
       "      <td>0</td>\n",
       "      <td>7</td>\n",
       "      <td>1</td>\n",
       "      <td>2012</td>\n",
       "      <td>0</td>\n",
       "      <td>0</td>\n",
       "      <td>0</td>\n",
       "      <td>0</td>\n",
       "      <td>0.0</td>\n",
       "      <td>1.0</td>\n",
       "      <td>0.0</td>\n",
       "      <td>0.50</td>\n",
       "      <td>NaN</td>\n",
       "      <td>NaN</td>\n",
       "      <td>NaN</td>\n",
       "      <td>NaN</td>\n",
       "      <td>NaN</td>\n",
       "      <td>NaN</td>\n",
       "      <td>2</td>\n",
       "      <td>1</td>\n",
       "      <td>13</td>\n",
       "    </tr>\n",
       "    <tr>\n",
       "      <th>4</th>\n",
       "      <td>HOBBIES_1_009_CA_1_evaluation</td>\n",
       "      <td>8</td>\n",
       "      <td>0</td>\n",
       "      <td>0</td>\n",
       "      <td>0</td>\n",
       "      <td>0</td>\n",
       "      <td>d_350</td>\n",
       "      <td>2.0</td>\n",
       "      <td>2012-01-13</td>\n",
       "      <td>11150</td>\n",
       "      <td>0</td>\n",
       "      <td>7</td>\n",
       "      <td>1</td>\n",
       "      <td>2012</td>\n",
       "      <td>0</td>\n",
       "      <td>0</td>\n",
       "      <td>0</td>\n",
       "      <td>0</td>\n",
       "      <td>0.0</td>\n",
       "      <td>1.0</td>\n",
       "      <td>0.0</td>\n",
       "      <td>1.77</td>\n",
       "      <td>NaN</td>\n",
       "      <td>NaN</td>\n",
       "      <td>NaN</td>\n",
       "      <td>NaN</td>\n",
       "      <td>NaN</td>\n",
       "      <td>NaN</td>\n",
       "      <td>2</td>\n",
       "      <td>1</td>\n",
       "      <td>13</td>\n",
       "    </tr>\n",
       "  </tbody>\n",
       "</table>\n",
       "</div>"
      ],
      "text/plain": [
       "                              id  item_id  dept_id  store_id  cat_id  \\\n",
       "0  HOBBIES_1_002_CA_1_evaluation        1        0         0       0   \n",
       "1  HOBBIES_1_004_CA_1_evaluation        3        0         0       0   \n",
       "2  HOBBIES_1_005_CA_1_evaluation        4        0         0       0   \n",
       "3  HOBBIES_1_008_CA_1_evaluation        7        0         0       0   \n",
       "4  HOBBIES_1_009_CA_1_evaluation        8        0         0       0   \n",
       "\n",
       "   state_id      d  sales       date  wm_yr_wk  weekday  wday  month  year  \\\n",
       "0         0  d_350    0.0 2012-01-13     11150        0     7      1  2012   \n",
       "1         0  d_350    2.0 2012-01-13     11150        0     7      1  2012   \n",
       "2         0  d_350    0.0 2012-01-13     11150        0     7      1  2012   \n",
       "3         0  d_350    0.0 2012-01-13     11150        0     7      1  2012   \n",
       "4         0  d_350    2.0 2012-01-13     11150        0     7      1  2012   \n",
       "\n",
       "   event_name_1  event_type_1  event_name_2  event_type_2  snap_CA  snap_TX  \\\n",
       "0             0             0             0             0      0.0      1.0   \n",
       "1             0             0             0             0      0.0      1.0   \n",
       "2             0             0             0             0      0.0      1.0   \n",
       "3             0             0             0             0      0.0      1.0   \n",
       "4             0             0             0             0      0.0      1.0   \n",
       "\n",
       "   snap_WI  sell_price  lag_7  lag_28  rmean_7_7  rmean_28_7  rmean_7_28  \\\n",
       "0      0.0        3.97    NaN     NaN        NaN         NaN         NaN   \n",
       "1      0.0        4.34    NaN     NaN        NaN         NaN         NaN   \n",
       "2      0.0        2.48    NaN     NaN        NaN         NaN         NaN   \n",
       "3      0.0        0.50    NaN     NaN        NaN         NaN         NaN   \n",
       "4      0.0        1.77    NaN     NaN        NaN         NaN         NaN   \n",
       "\n",
       "   rmean_28_28  week  quarter  mday  \n",
       "0          NaN     2        1    13  \n",
       "1          NaN     2        1    13  \n",
       "2          NaN     2        1    13  \n",
       "3          NaN     2        1    13  \n",
       "4          NaN     2        1    13  "
      ]
     },
     "execution_count": 31,
     "metadata": {},
     "output_type": "execute_result"
    }
   ],
   "source": [
    "df.head()"
   ]
  },
  {
   "cell_type": "code",
   "execution_count": 32,
   "metadata": {},
   "outputs": [
    {
     "data": {
      "text/plain": [
       "(39894989, 31)"
      ]
     },
     "execution_count": 32,
     "metadata": {},
     "output_type": "execute_result"
    }
   ],
   "source": [
    "df.dropna(inplace = True)\n",
    "df.shape"
   ]
  },
  {
   "cell_type": "code",
   "execution_count": 33,
   "metadata": {},
   "outputs": [],
   "source": [
    "cat_feats = ['item_id', 'dept_id','store_id', 'cat_id', 'state_id'] + [\"event_name_1\", \"event_name_2\", \"event_type_1\", \"event_type_2\"]\n",
    "useless_cols = [\"id\", \"date\", \"sales\",\"d\", \"wm_yr_wk\", \"weekday\"]\n",
    "train_cols = df.columns[~df.columns.isin(useless_cols)]\n",
    "X_train = df[train_cols]\n",
    "y_train = df[\"sales\"]"
   ]
  },
  {
   "cell_type": "code",
   "execution_count": 35,
   "metadata": {},
   "outputs": [
    {
     "name": "stdout",
     "output_type": "stream",
     "text": [
      "Wall time: 21.2 s\n"
     ]
    }
   ],
   "source": [
    "%%time\n",
    "\n",
    "np.random.seed(777)\n",
    "\n",
    "fake_valid_inds = np.random.choice(X_train.index.values, 2_000_000, replace = False)\n",
    "train_inds = np.setdiff1d(X_train.index.values, fake_valid_inds)\n",
    "train_data = lgb.Dataset(X_train.loc[train_inds] , label = y_train.loc[train_inds], \n",
    "                         categorical_feature=cat_feats, free_raw_data=False)\n",
    "fake_valid_data = lgb.Dataset(X_train.loc[fake_valid_inds], label = y_train.loc[fake_valid_inds],\n",
    "                              categorical_feature=cat_feats,\n",
    "                 free_raw_data=False)"
   ]
  },
  {
   "cell_type": "code",
   "execution_count": 36,
   "metadata": {},
   "outputs": [
    {
     "data": {
      "text/plain": [
       "25"
      ]
     },
     "execution_count": 36,
     "metadata": {},
     "output_type": "execute_result"
    }
   ],
   "source": [
    "del df, X_train, y_train, fake_valid_inds,train_inds ; gc.collect()"
   ]
  },
  {
   "cell_type": "code",
   "execution_count": 37,
   "metadata": {},
   "outputs": [],
   "source": [
    "params = {\n",
    "        \"objective\" : \"poisson\",\n",
    "        \"metric\" :\"rmse\",\n",
    "        \"force_row_wise\" : True,\n",
    "        \"learning_rate\" : 0.075,\n",
    "        \"sub_row\" : 0.75,\n",
    "        \"bagging_freq\" : 1,\n",
    "        \"lambda_l2\" : 0.1,\n",
    "        \"metric\": [\"rmse\"],\n",
    "    'verbosity': 1,\n",
    "    'num_iterations' : 1200,\n",
    "    'num_leaves': 128,\n",
    "    \"min_data_in_leaf\": 100,\n",
    "}"
   ]
  },
  {
   "cell_type": "code",
   "execution_count": 38,
   "metadata": {},
   "outputs": [
    {
     "name": "stderr",
     "output_type": "stream",
     "text": [
      "C:\\Users\\acherif003\\Anaconda3\\lib\\site-packages\\lightgbm\\engine.py:177: UserWarning: Found `num_iterations` in params. Will use it instead of argument\n",
      "  _log_warning(f\"Found `{alias}` in params. Will use it instead of argument\")\n",
      "C:\\Users\\acherif003\\Anaconda3\\lib\\site-packages\\lightgbm\\basic.py:2065: UserWarning: Using categorical_feature in Dataset.\n",
      "  _log_warning('Using categorical_feature in Dataset.')\n",
      "C:\\Users\\acherif003\\Anaconda3\\lib\\site-packages\\lightgbm\\engine.py:239: UserWarning: 'verbose_eval' argument is deprecated and will be removed in a future release of LightGBM. Pass 'log_evaluation()' callback via 'callbacks' argument instead.\n",
      "  _log_warning(\"'verbose_eval' argument is deprecated and will be removed in a future release of LightGBM. \"\n"
     ]
    },
    {
     "name": "stdout",
     "output_type": "stream",
     "text": [
      "[LightGBM] [Info] Total Bins 4602\n",
      "[LightGBM] [Info] Number of data points in the train set: 37894989, number of used features: 25\n"
     ]
    },
    {
     "name": "stderr",
     "output_type": "stream",
     "text": [
      "C:\\Users\\acherif003\\Anaconda3\\lib\\site-packages\\lightgbm\\basic.py:1780: UserWarning: Overriding the parameters from Reference Dataset.\n",
      "  _log_warning('Overriding the parameters from Reference Dataset.')\n",
      "C:\\Users\\acherif003\\Anaconda3\\lib\\site-packages\\lightgbm\\basic.py:1513: UserWarning: categorical_column in param dict is overridden.\n",
      "  _log_warning(f'{cat_alias} in param dict is overridden.')\n"
     ]
    },
    {
     "name": "stdout",
     "output_type": "stream",
     "text": [
      "[LightGBM] [Info] Start training from score 0.305582\n",
      "[20]\tvalid_0's rmse: 2.95888\n",
      "[40]\tvalid_0's rmse: 2.63236\n",
      "[60]\tvalid_0's rmse: 2.54629\n",
      "[80]\tvalid_0's rmse: 2.52169\n",
      "[100]\tvalid_0's rmse: 2.51112\n",
      "[120]\tvalid_0's rmse: 2.50086\n",
      "[140]\tvalid_0's rmse: 2.49124\n",
      "[160]\tvalid_0's rmse: 2.48516\n",
      "[180]\tvalid_0's rmse: 2.4768\n",
      "[200]\tvalid_0's rmse: 2.47117\n",
      "[220]\tvalid_0's rmse: 2.46399\n",
      "[240]\tvalid_0's rmse: 2.45845\n",
      "[260]\tvalid_0's rmse: 2.45222\n",
      "[280]\tvalid_0's rmse: 2.44791\n",
      "[300]\tvalid_0's rmse: 2.44403\n",
      "[320]\tvalid_0's rmse: 2.43979\n",
      "[340]\tvalid_0's rmse: 2.4361\n",
      "[360]\tvalid_0's rmse: 2.43245\n",
      "[380]\tvalid_0's rmse: 2.42863\n",
      "[400]\tvalid_0's rmse: 2.42423\n",
      "[420]\tvalid_0's rmse: 2.42244\n",
      "[440]\tvalid_0's rmse: 2.41935\n",
      "[460]\tvalid_0's rmse: 2.41715\n",
      "[480]\tvalid_0's rmse: 2.41414\n",
      "[500]\tvalid_0's rmse: 2.41136\n",
      "[520]\tvalid_0's rmse: 2.40997\n",
      "[540]\tvalid_0's rmse: 2.40803\n",
      "[560]\tvalid_0's rmse: 2.40701\n",
      "[580]\tvalid_0's rmse: 2.4053\n",
      "[600]\tvalid_0's rmse: 2.40375\n",
      "[620]\tvalid_0's rmse: 2.40108\n",
      "[640]\tvalid_0's rmse: 2.39954\n",
      "[660]\tvalid_0's rmse: 2.39692\n",
      "[680]\tvalid_0's rmse: 2.39513\n",
      "[700]\tvalid_0's rmse: 2.39379\n",
      "[720]\tvalid_0's rmse: 2.3909\n",
      "[740]\tvalid_0's rmse: 2.38882\n",
      "[760]\tvalid_0's rmse: 2.387\n",
      "[780]\tvalid_0's rmse: 2.38597\n",
      "[800]\tvalid_0's rmse: 2.38466\n",
      "[820]\tvalid_0's rmse: 2.38335\n",
      "[840]\tvalid_0's rmse: 2.38238\n",
      "[860]\tvalid_0's rmse: 2.38187\n",
      "[880]\tvalid_0's rmse: 2.38041\n",
      "[900]\tvalid_0's rmse: 2.37969\n",
      "[920]\tvalid_0's rmse: 2.37809\n",
      "[940]\tvalid_0's rmse: 2.37673\n",
      "[960]\tvalid_0's rmse: 2.37622\n",
      "[980]\tvalid_0's rmse: 2.37534\n",
      "[1000]\tvalid_0's rmse: 2.37404\n",
      "[1020]\tvalid_0's rmse: 2.37309\n",
      "[1040]\tvalid_0's rmse: 2.37185\n",
      "[1060]\tvalid_0's rmse: 2.37093\n",
      "[1080]\tvalid_0's rmse: 2.36961\n",
      "[1100]\tvalid_0's rmse: 2.3687\n",
      "[1120]\tvalid_0's rmse: 2.36819\n",
      "[1140]\tvalid_0's rmse: 2.36782\n",
      "[1160]\tvalid_0's rmse: 2.36698\n",
      "[1180]\tvalid_0's rmse: 2.36582\n",
      "[1200]\tvalid_0's rmse: 2.3645\n",
      "Wall time: 32min 8s\n"
     ]
    }
   ],
   "source": [
    "%%time\n",
    "\n",
    "m_lgb = lgb.train(params, train_data, valid_sets = [fake_valid_data], verbose_eval=20) "
   ]
  },
  {
   "cell_type": "code",
   "execution_count": 39,
   "metadata": {},
   "outputs": [
    {
     "data": {
      "text/plain": [
       "<lightgbm.basic.Booster at 0x2442146f2b0>"
      ]
     },
     "execution_count": 39,
     "metadata": {},
     "output_type": "execute_result"
    }
   ],
   "source": [
    "m_lgb.save_model(\"model.lgb\")"
   ]
  },
  {
   "cell_type": "code",
   "execution_count": 43,
   "metadata": {},
   "outputs": [
    {
     "name": "stdout",
     "output_type": "stream",
     "text": [
      "0 2016-05-23 00:00:00\n"
     ]
    },
    {
     "name": "stderr",
     "output_type": "stream",
     "text": [
      "C:\\Users\\acherif003\\AppData\\Local\\Temp\\ipykernel_26320\\2130825514.py:32: FutureWarning: Series.dt.weekofyear and Series.dt.week have been deprecated. Please use Series.dt.isocalendar().week instead.\n",
      "  dt[date_feat_name] = getattr(dt[\"date\"].dt, date_feat_func).astype(\"int16\")\n"
     ]
    },
    {
     "name": "stdout",
     "output_type": "stream",
     "text": [
      "1 2016-05-24 00:00:00\n"
     ]
    },
    {
     "name": "stderr",
     "output_type": "stream",
     "text": [
      "C:\\Users\\acherif003\\AppData\\Local\\Temp\\ipykernel_26320\\2130825514.py:32: FutureWarning: Series.dt.weekofyear and Series.dt.week have been deprecated. Please use Series.dt.isocalendar().week instead.\n",
      "  dt[date_feat_name] = getattr(dt[\"date\"].dt, date_feat_func).astype(\"int16\")\n"
     ]
    },
    {
     "name": "stdout",
     "output_type": "stream",
     "text": [
      "2 2016-05-25 00:00:00\n"
     ]
    },
    {
     "name": "stderr",
     "output_type": "stream",
     "text": [
      "C:\\Users\\acherif003\\AppData\\Local\\Temp\\ipykernel_26320\\2130825514.py:32: FutureWarning: Series.dt.weekofyear and Series.dt.week have been deprecated. Please use Series.dt.isocalendar().week instead.\n",
      "  dt[date_feat_name] = getattr(dt[\"date\"].dt, date_feat_func).astype(\"int16\")\n"
     ]
    },
    {
     "name": "stdout",
     "output_type": "stream",
     "text": [
      "3 2016-05-26 00:00:00\n"
     ]
    },
    {
     "name": "stderr",
     "output_type": "stream",
     "text": [
      "C:\\Users\\acherif003\\AppData\\Local\\Temp\\ipykernel_26320\\2130825514.py:32: FutureWarning: Series.dt.weekofyear and Series.dt.week have been deprecated. Please use Series.dt.isocalendar().week instead.\n",
      "  dt[date_feat_name] = getattr(dt[\"date\"].dt, date_feat_func).astype(\"int16\")\n"
     ]
    },
    {
     "name": "stdout",
     "output_type": "stream",
     "text": [
      "4 2016-05-27 00:00:00\n"
     ]
    },
    {
     "name": "stderr",
     "output_type": "stream",
     "text": [
      "C:\\Users\\acherif003\\AppData\\Local\\Temp\\ipykernel_26320\\2130825514.py:32: FutureWarning: Series.dt.weekofyear and Series.dt.week have been deprecated. Please use Series.dt.isocalendar().week instead.\n",
      "  dt[date_feat_name] = getattr(dt[\"date\"].dt, date_feat_func).astype(\"int16\")\n"
     ]
    },
    {
     "name": "stdout",
     "output_type": "stream",
     "text": [
      "5 2016-05-28 00:00:00\n"
     ]
    },
    {
     "name": "stderr",
     "output_type": "stream",
     "text": [
      "C:\\Users\\acherif003\\AppData\\Local\\Temp\\ipykernel_26320\\2130825514.py:32: FutureWarning: Series.dt.weekofyear and Series.dt.week have been deprecated. Please use Series.dt.isocalendar().week instead.\n",
      "  dt[date_feat_name] = getattr(dt[\"date\"].dt, date_feat_func).astype(\"int16\")\n"
     ]
    },
    {
     "name": "stdout",
     "output_type": "stream",
     "text": [
      "6 2016-05-29 00:00:00\n"
     ]
    },
    {
     "name": "stderr",
     "output_type": "stream",
     "text": [
      "C:\\Users\\acherif003\\AppData\\Local\\Temp\\ipykernel_26320\\2130825514.py:32: FutureWarning: Series.dt.weekofyear and Series.dt.week have been deprecated. Please use Series.dt.isocalendar().week instead.\n",
      "  dt[date_feat_name] = getattr(dt[\"date\"].dt, date_feat_func).astype(\"int16\")\n"
     ]
    },
    {
     "name": "stdout",
     "output_type": "stream",
     "text": [
      "7 2016-05-30 00:00:00\n"
     ]
    },
    {
     "name": "stderr",
     "output_type": "stream",
     "text": [
      "C:\\Users\\acherif003\\AppData\\Local\\Temp\\ipykernel_26320\\2130825514.py:32: FutureWarning: Series.dt.weekofyear and Series.dt.week have been deprecated. Please use Series.dt.isocalendar().week instead.\n",
      "  dt[date_feat_name] = getattr(dt[\"date\"].dt, date_feat_func).astype(\"int16\")\n"
     ]
    },
    {
     "name": "stdout",
     "output_type": "stream",
     "text": [
      "8 2016-05-31 00:00:00\n"
     ]
    },
    {
     "name": "stderr",
     "output_type": "stream",
     "text": [
      "C:\\Users\\acherif003\\AppData\\Local\\Temp\\ipykernel_26320\\2130825514.py:32: FutureWarning: Series.dt.weekofyear and Series.dt.week have been deprecated. Please use Series.dt.isocalendar().week instead.\n",
      "  dt[date_feat_name] = getattr(dt[\"date\"].dt, date_feat_func).astype(\"int16\")\n"
     ]
    },
    {
     "name": "stdout",
     "output_type": "stream",
     "text": [
      "9 2016-06-01 00:00:00\n"
     ]
    },
    {
     "name": "stderr",
     "output_type": "stream",
     "text": [
      "C:\\Users\\acherif003\\AppData\\Local\\Temp\\ipykernel_26320\\2130825514.py:32: FutureWarning: Series.dt.weekofyear and Series.dt.week have been deprecated. Please use Series.dt.isocalendar().week instead.\n",
      "  dt[date_feat_name] = getattr(dt[\"date\"].dt, date_feat_func).astype(\"int16\")\n"
     ]
    },
    {
     "name": "stdout",
     "output_type": "stream",
     "text": [
      "10 2016-06-02 00:00:00\n"
     ]
    },
    {
     "name": "stderr",
     "output_type": "stream",
     "text": [
      "C:\\Users\\acherif003\\AppData\\Local\\Temp\\ipykernel_26320\\2130825514.py:32: FutureWarning: Series.dt.weekofyear and Series.dt.week have been deprecated. Please use Series.dt.isocalendar().week instead.\n",
      "  dt[date_feat_name] = getattr(dt[\"date\"].dt, date_feat_func).astype(\"int16\")\n"
     ]
    },
    {
     "name": "stdout",
     "output_type": "stream",
     "text": [
      "11 2016-06-03 00:00:00\n"
     ]
    },
    {
     "name": "stderr",
     "output_type": "stream",
     "text": [
      "C:\\Users\\acherif003\\AppData\\Local\\Temp\\ipykernel_26320\\2130825514.py:32: FutureWarning: Series.dt.weekofyear and Series.dt.week have been deprecated. Please use Series.dt.isocalendar().week instead.\n",
      "  dt[date_feat_name] = getattr(dt[\"date\"].dt, date_feat_func).astype(\"int16\")\n"
     ]
    },
    {
     "name": "stdout",
     "output_type": "stream",
     "text": [
      "12 2016-06-04 00:00:00\n"
     ]
    },
    {
     "name": "stderr",
     "output_type": "stream",
     "text": [
      "C:\\Users\\acherif003\\AppData\\Local\\Temp\\ipykernel_26320\\2130825514.py:32: FutureWarning: Series.dt.weekofyear and Series.dt.week have been deprecated. Please use Series.dt.isocalendar().week instead.\n",
      "  dt[date_feat_name] = getattr(dt[\"date\"].dt, date_feat_func).astype(\"int16\")\n"
     ]
    },
    {
     "name": "stdout",
     "output_type": "stream",
     "text": [
      "13 2016-06-05 00:00:00\n"
     ]
    },
    {
     "name": "stderr",
     "output_type": "stream",
     "text": [
      "C:\\Users\\acherif003\\AppData\\Local\\Temp\\ipykernel_26320\\2130825514.py:32: FutureWarning: Series.dt.weekofyear and Series.dt.week have been deprecated. Please use Series.dt.isocalendar().week instead.\n",
      "  dt[date_feat_name] = getattr(dt[\"date\"].dt, date_feat_func).astype(\"int16\")\n"
     ]
    },
    {
     "name": "stdout",
     "output_type": "stream",
     "text": [
      "14 2016-06-06 00:00:00\n"
     ]
    },
    {
     "name": "stderr",
     "output_type": "stream",
     "text": [
      "C:\\Users\\acherif003\\AppData\\Local\\Temp\\ipykernel_26320\\2130825514.py:32: FutureWarning: Series.dt.weekofyear and Series.dt.week have been deprecated. Please use Series.dt.isocalendar().week instead.\n",
      "  dt[date_feat_name] = getattr(dt[\"date\"].dt, date_feat_func).astype(\"int16\")\n"
     ]
    },
    {
     "name": "stdout",
     "output_type": "stream",
     "text": [
      "15 2016-06-07 00:00:00\n"
     ]
    },
    {
     "name": "stderr",
     "output_type": "stream",
     "text": [
      "C:\\Users\\acherif003\\AppData\\Local\\Temp\\ipykernel_26320\\2130825514.py:32: FutureWarning: Series.dt.weekofyear and Series.dt.week have been deprecated. Please use Series.dt.isocalendar().week instead.\n",
      "  dt[date_feat_name] = getattr(dt[\"date\"].dt, date_feat_func).astype(\"int16\")\n"
     ]
    },
    {
     "name": "stdout",
     "output_type": "stream",
     "text": [
      "16 2016-06-08 00:00:00\n"
     ]
    },
    {
     "name": "stderr",
     "output_type": "stream",
     "text": [
      "C:\\Users\\acherif003\\AppData\\Local\\Temp\\ipykernel_26320\\2130825514.py:32: FutureWarning: Series.dt.weekofyear and Series.dt.week have been deprecated. Please use Series.dt.isocalendar().week instead.\n",
      "  dt[date_feat_name] = getattr(dt[\"date\"].dt, date_feat_func).astype(\"int16\")\n"
     ]
    },
    {
     "name": "stdout",
     "output_type": "stream",
     "text": [
      "17 2016-06-09 00:00:00\n"
     ]
    },
    {
     "name": "stderr",
     "output_type": "stream",
     "text": [
      "C:\\Users\\acherif003\\AppData\\Local\\Temp\\ipykernel_26320\\2130825514.py:32: FutureWarning: Series.dt.weekofyear and Series.dt.week have been deprecated. Please use Series.dt.isocalendar().week instead.\n",
      "  dt[date_feat_name] = getattr(dt[\"date\"].dt, date_feat_func).astype(\"int16\")\n"
     ]
    },
    {
     "name": "stdout",
     "output_type": "stream",
     "text": [
      "18 2016-06-10 00:00:00\n"
     ]
    },
    {
     "name": "stderr",
     "output_type": "stream",
     "text": [
      "C:\\Users\\acherif003\\AppData\\Local\\Temp\\ipykernel_26320\\2130825514.py:32: FutureWarning: Series.dt.weekofyear and Series.dt.week have been deprecated. Please use Series.dt.isocalendar().week instead.\n",
      "  dt[date_feat_name] = getattr(dt[\"date\"].dt, date_feat_func).astype(\"int16\")\n"
     ]
    },
    {
     "name": "stdout",
     "output_type": "stream",
     "text": [
      "19 2016-06-11 00:00:00\n"
     ]
    },
    {
     "name": "stderr",
     "output_type": "stream",
     "text": [
      "C:\\Users\\acherif003\\AppData\\Local\\Temp\\ipykernel_26320\\2130825514.py:32: FutureWarning: Series.dt.weekofyear and Series.dt.week have been deprecated. Please use Series.dt.isocalendar().week instead.\n",
      "  dt[date_feat_name] = getattr(dt[\"date\"].dt, date_feat_func).astype(\"int16\")\n"
     ]
    },
    {
     "name": "stdout",
     "output_type": "stream",
     "text": [
      "20 2016-06-12 00:00:00\n"
     ]
    },
    {
     "name": "stderr",
     "output_type": "stream",
     "text": [
      "C:\\Users\\acherif003\\AppData\\Local\\Temp\\ipykernel_26320\\2130825514.py:32: FutureWarning: Series.dt.weekofyear and Series.dt.week have been deprecated. Please use Series.dt.isocalendar().week instead.\n",
      "  dt[date_feat_name] = getattr(dt[\"date\"].dt, date_feat_func).astype(\"int16\")\n"
     ]
    },
    {
     "name": "stdout",
     "output_type": "stream",
     "text": [
      "21 2016-06-13 00:00:00\n"
     ]
    },
    {
     "name": "stderr",
     "output_type": "stream",
     "text": [
      "C:\\Users\\acherif003\\AppData\\Local\\Temp\\ipykernel_26320\\2130825514.py:32: FutureWarning: Series.dt.weekofyear and Series.dt.week have been deprecated. Please use Series.dt.isocalendar().week instead.\n",
      "  dt[date_feat_name] = getattr(dt[\"date\"].dt, date_feat_func).astype(\"int16\")\n"
     ]
    },
    {
     "name": "stdout",
     "output_type": "stream",
     "text": [
      "22 2016-06-14 00:00:00\n"
     ]
    },
    {
     "name": "stderr",
     "output_type": "stream",
     "text": [
      "C:\\Users\\acherif003\\AppData\\Local\\Temp\\ipykernel_26320\\2130825514.py:32: FutureWarning: Series.dt.weekofyear and Series.dt.week have been deprecated. Please use Series.dt.isocalendar().week instead.\n",
      "  dt[date_feat_name] = getattr(dt[\"date\"].dt, date_feat_func).astype(\"int16\")\n"
     ]
    },
    {
     "name": "stdout",
     "output_type": "stream",
     "text": [
      "23 2016-06-15 00:00:00\n"
     ]
    },
    {
     "name": "stderr",
     "output_type": "stream",
     "text": [
      "C:\\Users\\acherif003\\AppData\\Local\\Temp\\ipykernel_26320\\2130825514.py:32: FutureWarning: Series.dt.weekofyear and Series.dt.week have been deprecated. Please use Series.dt.isocalendar().week instead.\n",
      "  dt[date_feat_name] = getattr(dt[\"date\"].dt, date_feat_func).astype(\"int16\")\n"
     ]
    },
    {
     "name": "stdout",
     "output_type": "stream",
     "text": [
      "24 2016-06-16 00:00:00\n"
     ]
    },
    {
     "name": "stderr",
     "output_type": "stream",
     "text": [
      "C:\\Users\\acherif003\\AppData\\Local\\Temp\\ipykernel_26320\\2130825514.py:32: FutureWarning: Series.dt.weekofyear and Series.dt.week have been deprecated. Please use Series.dt.isocalendar().week instead.\n",
      "  dt[date_feat_name] = getattr(dt[\"date\"].dt, date_feat_func).astype(\"int16\")\n"
     ]
    },
    {
     "name": "stdout",
     "output_type": "stream",
     "text": [
      "25 2016-06-17 00:00:00\n"
     ]
    },
    {
     "name": "stderr",
     "output_type": "stream",
     "text": [
      "C:\\Users\\acherif003\\AppData\\Local\\Temp\\ipykernel_26320\\2130825514.py:32: FutureWarning: Series.dt.weekofyear and Series.dt.week have been deprecated. Please use Series.dt.isocalendar().week instead.\n",
      "  dt[date_feat_name] = getattr(dt[\"date\"].dt, date_feat_func).astype(\"int16\")\n"
     ]
    },
    {
     "name": "stdout",
     "output_type": "stream",
     "text": [
      "26 2016-06-18 00:00:00\n"
     ]
    },
    {
     "name": "stderr",
     "output_type": "stream",
     "text": [
      "C:\\Users\\acherif003\\AppData\\Local\\Temp\\ipykernel_26320\\2130825514.py:32: FutureWarning: Series.dt.weekofyear and Series.dt.week have been deprecated. Please use Series.dt.isocalendar().week instead.\n",
      "  dt[date_feat_name] = getattr(dt[\"date\"].dt, date_feat_func).astype(\"int16\")\n"
     ]
    },
    {
     "name": "stdout",
     "output_type": "stream",
     "text": [
      "27 2016-06-19 00:00:00\n"
     ]
    },
    {
     "name": "stderr",
     "output_type": "stream",
     "text": [
      "C:\\Users\\acherif003\\AppData\\Local\\Temp\\ipykernel_26320\\2130825514.py:32: FutureWarning: Series.dt.weekofyear and Series.dt.week have been deprecated. Please use Series.dt.isocalendar().week instead.\n",
      "  dt[date_feat_name] = getattr(dt[\"date\"].dt, date_feat_func).astype(\"int16\")\n"
     ]
    },
    {
     "name": "stdout",
     "output_type": "stream",
     "text": [
      "0 1.023 0.3333333333333333\n",
      "0 2016-05-23 00:00:00\n"
     ]
    },
    {
     "name": "stderr",
     "output_type": "stream",
     "text": [
      "C:\\Users\\acherif003\\AppData\\Local\\Temp\\ipykernel_26320\\2130825514.py:32: FutureWarning: Series.dt.weekofyear and Series.dt.week have been deprecated. Please use Series.dt.isocalendar().week instead.\n",
      "  dt[date_feat_name] = getattr(dt[\"date\"].dt, date_feat_func).astype(\"int16\")\n"
     ]
    },
    {
     "name": "stdout",
     "output_type": "stream",
     "text": [
      "1 2016-05-24 00:00:00\n"
     ]
    },
    {
     "name": "stderr",
     "output_type": "stream",
     "text": [
      "C:\\Users\\acherif003\\AppData\\Local\\Temp\\ipykernel_26320\\2130825514.py:32: FutureWarning: Series.dt.weekofyear and Series.dt.week have been deprecated. Please use Series.dt.isocalendar().week instead.\n",
      "  dt[date_feat_name] = getattr(dt[\"date\"].dt, date_feat_func).astype(\"int16\")\n"
     ]
    },
    {
     "name": "stdout",
     "output_type": "stream",
     "text": [
      "2 2016-05-25 00:00:00\n"
     ]
    },
    {
     "name": "stderr",
     "output_type": "stream",
     "text": [
      "C:\\Users\\acherif003\\AppData\\Local\\Temp\\ipykernel_26320\\2130825514.py:32: FutureWarning: Series.dt.weekofyear and Series.dt.week have been deprecated. Please use Series.dt.isocalendar().week instead.\n",
      "  dt[date_feat_name] = getattr(dt[\"date\"].dt, date_feat_func).astype(\"int16\")\n"
     ]
    },
    {
     "name": "stdout",
     "output_type": "stream",
     "text": [
      "3 2016-05-26 00:00:00\n"
     ]
    },
    {
     "name": "stderr",
     "output_type": "stream",
     "text": [
      "C:\\Users\\acherif003\\AppData\\Local\\Temp\\ipykernel_26320\\2130825514.py:32: FutureWarning: Series.dt.weekofyear and Series.dt.week have been deprecated. Please use Series.dt.isocalendar().week instead.\n",
      "  dt[date_feat_name] = getattr(dt[\"date\"].dt, date_feat_func).astype(\"int16\")\n"
     ]
    },
    {
     "name": "stdout",
     "output_type": "stream",
     "text": [
      "4 2016-05-27 00:00:00\n"
     ]
    },
    {
     "name": "stderr",
     "output_type": "stream",
     "text": [
      "C:\\Users\\acherif003\\AppData\\Local\\Temp\\ipykernel_26320\\2130825514.py:32: FutureWarning: Series.dt.weekofyear and Series.dt.week have been deprecated. Please use Series.dt.isocalendar().week instead.\n",
      "  dt[date_feat_name] = getattr(dt[\"date\"].dt, date_feat_func).astype(\"int16\")\n"
     ]
    },
    {
     "name": "stdout",
     "output_type": "stream",
     "text": [
      "5 2016-05-28 00:00:00\n"
     ]
    },
    {
     "name": "stderr",
     "output_type": "stream",
     "text": [
      "C:\\Users\\acherif003\\AppData\\Local\\Temp\\ipykernel_26320\\2130825514.py:32: FutureWarning: Series.dt.weekofyear and Series.dt.week have been deprecated. Please use Series.dt.isocalendar().week instead.\n",
      "  dt[date_feat_name] = getattr(dt[\"date\"].dt, date_feat_func).astype(\"int16\")\n"
     ]
    },
    {
     "name": "stdout",
     "output_type": "stream",
     "text": [
      "6 2016-05-29 00:00:00\n"
     ]
    },
    {
     "name": "stderr",
     "output_type": "stream",
     "text": [
      "C:\\Users\\acherif003\\AppData\\Local\\Temp\\ipykernel_26320\\2130825514.py:32: FutureWarning: Series.dt.weekofyear and Series.dt.week have been deprecated. Please use Series.dt.isocalendar().week instead.\n",
      "  dt[date_feat_name] = getattr(dt[\"date\"].dt, date_feat_func).astype(\"int16\")\n"
     ]
    },
    {
     "name": "stdout",
     "output_type": "stream",
     "text": [
      "7 2016-05-30 00:00:00\n"
     ]
    },
    {
     "name": "stderr",
     "output_type": "stream",
     "text": [
      "C:\\Users\\acherif003\\AppData\\Local\\Temp\\ipykernel_26320\\2130825514.py:32: FutureWarning: Series.dt.weekofyear and Series.dt.week have been deprecated. Please use Series.dt.isocalendar().week instead.\n",
      "  dt[date_feat_name] = getattr(dt[\"date\"].dt, date_feat_func).astype(\"int16\")\n"
     ]
    },
    {
     "name": "stdout",
     "output_type": "stream",
     "text": [
      "8 2016-05-31 00:00:00\n"
     ]
    },
    {
     "name": "stderr",
     "output_type": "stream",
     "text": [
      "C:\\Users\\acherif003\\AppData\\Local\\Temp\\ipykernel_26320\\2130825514.py:32: FutureWarning: Series.dt.weekofyear and Series.dt.week have been deprecated. Please use Series.dt.isocalendar().week instead.\n",
      "  dt[date_feat_name] = getattr(dt[\"date\"].dt, date_feat_func).astype(\"int16\")\n"
     ]
    },
    {
     "name": "stdout",
     "output_type": "stream",
     "text": [
      "9 2016-06-01 00:00:00\n"
     ]
    },
    {
     "name": "stderr",
     "output_type": "stream",
     "text": [
      "C:\\Users\\acherif003\\AppData\\Local\\Temp\\ipykernel_26320\\2130825514.py:32: FutureWarning: Series.dt.weekofyear and Series.dt.week have been deprecated. Please use Series.dt.isocalendar().week instead.\n",
      "  dt[date_feat_name] = getattr(dt[\"date\"].dt, date_feat_func).astype(\"int16\")\n"
     ]
    },
    {
     "name": "stdout",
     "output_type": "stream",
     "text": [
      "10 2016-06-02 00:00:00\n"
     ]
    },
    {
     "name": "stderr",
     "output_type": "stream",
     "text": [
      "C:\\Users\\acherif003\\AppData\\Local\\Temp\\ipykernel_26320\\2130825514.py:32: FutureWarning: Series.dt.weekofyear and Series.dt.week have been deprecated. Please use Series.dt.isocalendar().week instead.\n",
      "  dt[date_feat_name] = getattr(dt[\"date\"].dt, date_feat_func).astype(\"int16\")\n"
     ]
    },
    {
     "name": "stdout",
     "output_type": "stream",
     "text": [
      "11 2016-06-03 00:00:00\n"
     ]
    },
    {
     "name": "stderr",
     "output_type": "stream",
     "text": [
      "C:\\Users\\acherif003\\AppData\\Local\\Temp\\ipykernel_26320\\2130825514.py:32: FutureWarning: Series.dt.weekofyear and Series.dt.week have been deprecated. Please use Series.dt.isocalendar().week instead.\n",
      "  dt[date_feat_name] = getattr(dt[\"date\"].dt, date_feat_func).astype(\"int16\")\n"
     ]
    },
    {
     "name": "stdout",
     "output_type": "stream",
     "text": [
      "12 2016-06-04 00:00:00\n"
     ]
    },
    {
     "name": "stderr",
     "output_type": "stream",
     "text": [
      "C:\\Users\\acherif003\\AppData\\Local\\Temp\\ipykernel_26320\\2130825514.py:32: FutureWarning: Series.dt.weekofyear and Series.dt.week have been deprecated. Please use Series.dt.isocalendar().week instead.\n",
      "  dt[date_feat_name] = getattr(dt[\"date\"].dt, date_feat_func).astype(\"int16\")\n"
     ]
    },
    {
     "name": "stdout",
     "output_type": "stream",
     "text": [
      "13 2016-06-05 00:00:00\n"
     ]
    },
    {
     "name": "stderr",
     "output_type": "stream",
     "text": [
      "C:\\Users\\acherif003\\AppData\\Local\\Temp\\ipykernel_26320\\2130825514.py:32: FutureWarning: Series.dt.weekofyear and Series.dt.week have been deprecated. Please use Series.dt.isocalendar().week instead.\n",
      "  dt[date_feat_name] = getattr(dt[\"date\"].dt, date_feat_func).astype(\"int16\")\n"
     ]
    },
    {
     "name": "stdout",
     "output_type": "stream",
     "text": [
      "14 2016-06-06 00:00:00\n"
     ]
    },
    {
     "name": "stderr",
     "output_type": "stream",
     "text": [
      "C:\\Users\\acherif003\\AppData\\Local\\Temp\\ipykernel_26320\\2130825514.py:32: FutureWarning: Series.dt.weekofyear and Series.dt.week have been deprecated. Please use Series.dt.isocalendar().week instead.\n",
      "  dt[date_feat_name] = getattr(dt[\"date\"].dt, date_feat_func).astype(\"int16\")\n"
     ]
    },
    {
     "name": "stdout",
     "output_type": "stream",
     "text": [
      "15 2016-06-07 00:00:00\n"
     ]
    },
    {
     "name": "stderr",
     "output_type": "stream",
     "text": [
      "C:\\Users\\acherif003\\AppData\\Local\\Temp\\ipykernel_26320\\2130825514.py:32: FutureWarning: Series.dt.weekofyear and Series.dt.week have been deprecated. Please use Series.dt.isocalendar().week instead.\n",
      "  dt[date_feat_name] = getattr(dt[\"date\"].dt, date_feat_func).astype(\"int16\")\n"
     ]
    },
    {
     "name": "stdout",
     "output_type": "stream",
     "text": [
      "16 2016-06-08 00:00:00\n"
     ]
    },
    {
     "name": "stderr",
     "output_type": "stream",
     "text": [
      "C:\\Users\\acherif003\\AppData\\Local\\Temp\\ipykernel_26320\\2130825514.py:32: FutureWarning: Series.dt.weekofyear and Series.dt.week have been deprecated. Please use Series.dt.isocalendar().week instead.\n",
      "  dt[date_feat_name] = getattr(dt[\"date\"].dt, date_feat_func).astype(\"int16\")\n"
     ]
    },
    {
     "name": "stdout",
     "output_type": "stream",
     "text": [
      "17 2016-06-09 00:00:00\n"
     ]
    },
    {
     "name": "stderr",
     "output_type": "stream",
     "text": [
      "C:\\Users\\acherif003\\AppData\\Local\\Temp\\ipykernel_26320\\2130825514.py:32: FutureWarning: Series.dt.weekofyear and Series.dt.week have been deprecated. Please use Series.dt.isocalendar().week instead.\n",
      "  dt[date_feat_name] = getattr(dt[\"date\"].dt, date_feat_func).astype(\"int16\")\n"
     ]
    },
    {
     "name": "stdout",
     "output_type": "stream",
     "text": [
      "18 2016-06-10 00:00:00\n"
     ]
    },
    {
     "name": "stderr",
     "output_type": "stream",
     "text": [
      "C:\\Users\\acherif003\\AppData\\Local\\Temp\\ipykernel_26320\\2130825514.py:32: FutureWarning: Series.dt.weekofyear and Series.dt.week have been deprecated. Please use Series.dt.isocalendar().week instead.\n",
      "  dt[date_feat_name] = getattr(dt[\"date\"].dt, date_feat_func).astype(\"int16\")\n"
     ]
    },
    {
     "name": "stdout",
     "output_type": "stream",
     "text": [
      "19 2016-06-11 00:00:00\n"
     ]
    },
    {
     "name": "stderr",
     "output_type": "stream",
     "text": [
      "C:\\Users\\acherif003\\AppData\\Local\\Temp\\ipykernel_26320\\2130825514.py:32: FutureWarning: Series.dt.weekofyear and Series.dt.week have been deprecated. Please use Series.dt.isocalendar().week instead.\n",
      "  dt[date_feat_name] = getattr(dt[\"date\"].dt, date_feat_func).astype(\"int16\")\n"
     ]
    },
    {
     "name": "stdout",
     "output_type": "stream",
     "text": [
      "20 2016-06-12 00:00:00\n"
     ]
    },
    {
     "name": "stderr",
     "output_type": "stream",
     "text": [
      "C:\\Users\\acherif003\\AppData\\Local\\Temp\\ipykernel_26320\\2130825514.py:32: FutureWarning: Series.dt.weekofyear and Series.dt.week have been deprecated. Please use Series.dt.isocalendar().week instead.\n",
      "  dt[date_feat_name] = getattr(dt[\"date\"].dt, date_feat_func).astype(\"int16\")\n"
     ]
    },
    {
     "name": "stdout",
     "output_type": "stream",
     "text": [
      "21 2016-06-13 00:00:00\n"
     ]
    },
    {
     "name": "stderr",
     "output_type": "stream",
     "text": [
      "C:\\Users\\acherif003\\AppData\\Local\\Temp\\ipykernel_26320\\2130825514.py:32: FutureWarning: Series.dt.weekofyear and Series.dt.week have been deprecated. Please use Series.dt.isocalendar().week instead.\n",
      "  dt[date_feat_name] = getattr(dt[\"date\"].dt, date_feat_func).astype(\"int16\")\n"
     ]
    },
    {
     "name": "stdout",
     "output_type": "stream",
     "text": [
      "22 2016-06-14 00:00:00\n"
     ]
    },
    {
     "name": "stderr",
     "output_type": "stream",
     "text": [
      "C:\\Users\\acherif003\\AppData\\Local\\Temp\\ipykernel_26320\\2130825514.py:32: FutureWarning: Series.dt.weekofyear and Series.dt.week have been deprecated. Please use Series.dt.isocalendar().week instead.\n",
      "  dt[date_feat_name] = getattr(dt[\"date\"].dt, date_feat_func).astype(\"int16\")\n"
     ]
    },
    {
     "name": "stdout",
     "output_type": "stream",
     "text": [
      "23 2016-06-15 00:00:00\n"
     ]
    },
    {
     "name": "stderr",
     "output_type": "stream",
     "text": [
      "C:\\Users\\acherif003\\AppData\\Local\\Temp\\ipykernel_26320\\2130825514.py:32: FutureWarning: Series.dt.weekofyear and Series.dt.week have been deprecated. Please use Series.dt.isocalendar().week instead.\n",
      "  dt[date_feat_name] = getattr(dt[\"date\"].dt, date_feat_func).astype(\"int16\")\n"
     ]
    },
    {
     "name": "stdout",
     "output_type": "stream",
     "text": [
      "24 2016-06-16 00:00:00\n"
     ]
    },
    {
     "name": "stderr",
     "output_type": "stream",
     "text": [
      "C:\\Users\\acherif003\\AppData\\Local\\Temp\\ipykernel_26320\\2130825514.py:32: FutureWarning: Series.dt.weekofyear and Series.dt.week have been deprecated. Please use Series.dt.isocalendar().week instead.\n",
      "  dt[date_feat_name] = getattr(dt[\"date\"].dt, date_feat_func).astype(\"int16\")\n"
     ]
    },
    {
     "name": "stdout",
     "output_type": "stream",
     "text": [
      "25 2016-06-17 00:00:00\n"
     ]
    },
    {
     "name": "stderr",
     "output_type": "stream",
     "text": [
      "C:\\Users\\acherif003\\AppData\\Local\\Temp\\ipykernel_26320\\2130825514.py:32: FutureWarning: Series.dt.weekofyear and Series.dt.week have been deprecated. Please use Series.dt.isocalendar().week instead.\n",
      "  dt[date_feat_name] = getattr(dt[\"date\"].dt, date_feat_func).astype(\"int16\")\n"
     ]
    },
    {
     "name": "stdout",
     "output_type": "stream",
     "text": [
      "26 2016-06-18 00:00:00\n"
     ]
    },
    {
     "name": "stderr",
     "output_type": "stream",
     "text": [
      "C:\\Users\\acherif003\\AppData\\Local\\Temp\\ipykernel_26320\\2130825514.py:32: FutureWarning: Series.dt.weekofyear and Series.dt.week have been deprecated. Please use Series.dt.isocalendar().week instead.\n",
      "  dt[date_feat_name] = getattr(dt[\"date\"].dt, date_feat_func).astype(\"int16\")\n"
     ]
    },
    {
     "name": "stdout",
     "output_type": "stream",
     "text": [
      "27 2016-06-19 00:00:00\n"
     ]
    },
    {
     "name": "stderr",
     "output_type": "stream",
     "text": [
      "C:\\Users\\acherif003\\AppData\\Local\\Temp\\ipykernel_26320\\2130825514.py:32: FutureWarning: Series.dt.weekofyear and Series.dt.week have been deprecated. Please use Series.dt.isocalendar().week instead.\n",
      "  dt[date_feat_name] = getattr(dt[\"date\"].dt, date_feat_func).astype(\"int16\")\n"
     ]
    },
    {
     "name": "stdout",
     "output_type": "stream",
     "text": [
      "1 1.018 0.3333333333333333\n",
      "0 2016-05-23 00:00:00\n"
     ]
    },
    {
     "name": "stderr",
     "output_type": "stream",
     "text": [
      "C:\\Users\\acherif003\\AppData\\Local\\Temp\\ipykernel_26320\\2130825514.py:32: FutureWarning: Series.dt.weekofyear and Series.dt.week have been deprecated. Please use Series.dt.isocalendar().week instead.\n",
      "  dt[date_feat_name] = getattr(dt[\"date\"].dt, date_feat_func).astype(\"int16\")\n"
     ]
    },
    {
     "name": "stdout",
     "output_type": "stream",
     "text": [
      "1 2016-05-24 00:00:00\n"
     ]
    },
    {
     "name": "stderr",
     "output_type": "stream",
     "text": [
      "C:\\Users\\acherif003\\AppData\\Local\\Temp\\ipykernel_26320\\2130825514.py:32: FutureWarning: Series.dt.weekofyear and Series.dt.week have been deprecated. Please use Series.dt.isocalendar().week instead.\n",
      "  dt[date_feat_name] = getattr(dt[\"date\"].dt, date_feat_func).astype(\"int16\")\n"
     ]
    },
    {
     "name": "stdout",
     "output_type": "stream",
     "text": [
      "2 2016-05-25 00:00:00\n"
     ]
    },
    {
     "name": "stderr",
     "output_type": "stream",
     "text": [
      "C:\\Users\\acherif003\\AppData\\Local\\Temp\\ipykernel_26320\\2130825514.py:32: FutureWarning: Series.dt.weekofyear and Series.dt.week have been deprecated. Please use Series.dt.isocalendar().week instead.\n",
      "  dt[date_feat_name] = getattr(dt[\"date\"].dt, date_feat_func).astype(\"int16\")\n"
     ]
    },
    {
     "name": "stdout",
     "output_type": "stream",
     "text": [
      "3 2016-05-26 00:00:00\n"
     ]
    },
    {
     "name": "stderr",
     "output_type": "stream",
     "text": [
      "C:\\Users\\acherif003\\AppData\\Local\\Temp\\ipykernel_26320\\2130825514.py:32: FutureWarning: Series.dt.weekofyear and Series.dt.week have been deprecated. Please use Series.dt.isocalendar().week instead.\n",
      "  dt[date_feat_name] = getattr(dt[\"date\"].dt, date_feat_func).astype(\"int16\")\n"
     ]
    },
    {
     "name": "stdout",
     "output_type": "stream",
     "text": [
      "4 2016-05-27 00:00:00\n"
     ]
    },
    {
     "name": "stderr",
     "output_type": "stream",
     "text": [
      "C:\\Users\\acherif003\\AppData\\Local\\Temp\\ipykernel_26320\\2130825514.py:32: FutureWarning: Series.dt.weekofyear and Series.dt.week have been deprecated. Please use Series.dt.isocalendar().week instead.\n",
      "  dt[date_feat_name] = getattr(dt[\"date\"].dt, date_feat_func).astype(\"int16\")\n"
     ]
    },
    {
     "name": "stdout",
     "output_type": "stream",
     "text": [
      "5 2016-05-28 00:00:00\n"
     ]
    },
    {
     "name": "stderr",
     "output_type": "stream",
     "text": [
      "C:\\Users\\acherif003\\AppData\\Local\\Temp\\ipykernel_26320\\2130825514.py:32: FutureWarning: Series.dt.weekofyear and Series.dt.week have been deprecated. Please use Series.dt.isocalendar().week instead.\n",
      "  dt[date_feat_name] = getattr(dt[\"date\"].dt, date_feat_func).astype(\"int16\")\n"
     ]
    },
    {
     "name": "stdout",
     "output_type": "stream",
     "text": [
      "6 2016-05-29 00:00:00\n"
     ]
    },
    {
     "name": "stderr",
     "output_type": "stream",
     "text": [
      "C:\\Users\\acherif003\\AppData\\Local\\Temp\\ipykernel_26320\\2130825514.py:32: FutureWarning: Series.dt.weekofyear and Series.dt.week have been deprecated. Please use Series.dt.isocalendar().week instead.\n",
      "  dt[date_feat_name] = getattr(dt[\"date\"].dt, date_feat_func).astype(\"int16\")\n"
     ]
    },
    {
     "name": "stdout",
     "output_type": "stream",
     "text": [
      "7 2016-05-30 00:00:00\n"
     ]
    },
    {
     "name": "stderr",
     "output_type": "stream",
     "text": [
      "C:\\Users\\acherif003\\AppData\\Local\\Temp\\ipykernel_26320\\2130825514.py:32: FutureWarning: Series.dt.weekofyear and Series.dt.week have been deprecated. Please use Series.dt.isocalendar().week instead.\n",
      "  dt[date_feat_name] = getattr(dt[\"date\"].dt, date_feat_func).astype(\"int16\")\n"
     ]
    },
    {
     "name": "stdout",
     "output_type": "stream",
     "text": [
      "8 2016-05-31 00:00:00\n"
     ]
    },
    {
     "name": "stderr",
     "output_type": "stream",
     "text": [
      "C:\\Users\\acherif003\\AppData\\Local\\Temp\\ipykernel_26320\\2130825514.py:32: FutureWarning: Series.dt.weekofyear and Series.dt.week have been deprecated. Please use Series.dt.isocalendar().week instead.\n",
      "  dt[date_feat_name] = getattr(dt[\"date\"].dt, date_feat_func).astype(\"int16\")\n"
     ]
    },
    {
     "name": "stdout",
     "output_type": "stream",
     "text": [
      "9 2016-06-01 00:00:00\n"
     ]
    },
    {
     "name": "stderr",
     "output_type": "stream",
     "text": [
      "C:\\Users\\acherif003\\AppData\\Local\\Temp\\ipykernel_26320\\2130825514.py:32: FutureWarning: Series.dt.weekofyear and Series.dt.week have been deprecated. Please use Series.dt.isocalendar().week instead.\n",
      "  dt[date_feat_name] = getattr(dt[\"date\"].dt, date_feat_func).astype(\"int16\")\n"
     ]
    },
    {
     "name": "stdout",
     "output_type": "stream",
     "text": [
      "10 2016-06-02 00:00:00\n"
     ]
    },
    {
     "name": "stderr",
     "output_type": "stream",
     "text": [
      "C:\\Users\\acherif003\\AppData\\Local\\Temp\\ipykernel_26320\\2130825514.py:32: FutureWarning: Series.dt.weekofyear and Series.dt.week have been deprecated. Please use Series.dt.isocalendar().week instead.\n",
      "  dt[date_feat_name] = getattr(dt[\"date\"].dt, date_feat_func).astype(\"int16\")\n"
     ]
    },
    {
     "name": "stdout",
     "output_type": "stream",
     "text": [
      "11 2016-06-03 00:00:00\n"
     ]
    },
    {
     "name": "stderr",
     "output_type": "stream",
     "text": [
      "C:\\Users\\acherif003\\AppData\\Local\\Temp\\ipykernel_26320\\2130825514.py:32: FutureWarning: Series.dt.weekofyear and Series.dt.week have been deprecated. Please use Series.dt.isocalendar().week instead.\n",
      "  dt[date_feat_name] = getattr(dt[\"date\"].dt, date_feat_func).astype(\"int16\")\n"
     ]
    },
    {
     "name": "stdout",
     "output_type": "stream",
     "text": [
      "12 2016-06-04 00:00:00\n"
     ]
    },
    {
     "name": "stderr",
     "output_type": "stream",
     "text": [
      "C:\\Users\\acherif003\\AppData\\Local\\Temp\\ipykernel_26320\\2130825514.py:32: FutureWarning: Series.dt.weekofyear and Series.dt.week have been deprecated. Please use Series.dt.isocalendar().week instead.\n",
      "  dt[date_feat_name] = getattr(dt[\"date\"].dt, date_feat_func).astype(\"int16\")\n"
     ]
    },
    {
     "name": "stdout",
     "output_type": "stream",
     "text": [
      "13 2016-06-05 00:00:00\n"
     ]
    },
    {
     "name": "stderr",
     "output_type": "stream",
     "text": [
      "C:\\Users\\acherif003\\AppData\\Local\\Temp\\ipykernel_26320\\2130825514.py:32: FutureWarning: Series.dt.weekofyear and Series.dt.week have been deprecated. Please use Series.dt.isocalendar().week instead.\n",
      "  dt[date_feat_name] = getattr(dt[\"date\"].dt, date_feat_func).astype(\"int16\")\n"
     ]
    },
    {
     "name": "stdout",
     "output_type": "stream",
     "text": [
      "14 2016-06-06 00:00:00\n"
     ]
    },
    {
     "name": "stderr",
     "output_type": "stream",
     "text": [
      "C:\\Users\\acherif003\\AppData\\Local\\Temp\\ipykernel_26320\\2130825514.py:32: FutureWarning: Series.dt.weekofyear and Series.dt.week have been deprecated. Please use Series.dt.isocalendar().week instead.\n",
      "  dt[date_feat_name] = getattr(dt[\"date\"].dt, date_feat_func).astype(\"int16\")\n"
     ]
    },
    {
     "name": "stdout",
     "output_type": "stream",
     "text": [
      "15 2016-06-07 00:00:00\n"
     ]
    },
    {
     "name": "stderr",
     "output_type": "stream",
     "text": [
      "C:\\Users\\acherif003\\AppData\\Local\\Temp\\ipykernel_26320\\2130825514.py:32: FutureWarning: Series.dt.weekofyear and Series.dt.week have been deprecated. Please use Series.dt.isocalendar().week instead.\n",
      "  dt[date_feat_name] = getattr(dt[\"date\"].dt, date_feat_func).astype(\"int16\")\n"
     ]
    },
    {
     "name": "stdout",
     "output_type": "stream",
     "text": [
      "16 2016-06-08 00:00:00\n"
     ]
    },
    {
     "name": "stderr",
     "output_type": "stream",
     "text": [
      "C:\\Users\\acherif003\\AppData\\Local\\Temp\\ipykernel_26320\\2130825514.py:32: FutureWarning: Series.dt.weekofyear and Series.dt.week have been deprecated. Please use Series.dt.isocalendar().week instead.\n",
      "  dt[date_feat_name] = getattr(dt[\"date\"].dt, date_feat_func).astype(\"int16\")\n"
     ]
    },
    {
     "name": "stdout",
     "output_type": "stream",
     "text": [
      "17 2016-06-09 00:00:00\n"
     ]
    },
    {
     "name": "stderr",
     "output_type": "stream",
     "text": [
      "C:\\Users\\acherif003\\AppData\\Local\\Temp\\ipykernel_26320\\2130825514.py:32: FutureWarning: Series.dt.weekofyear and Series.dt.week have been deprecated. Please use Series.dt.isocalendar().week instead.\n",
      "  dt[date_feat_name] = getattr(dt[\"date\"].dt, date_feat_func).astype(\"int16\")\n"
     ]
    },
    {
     "name": "stdout",
     "output_type": "stream",
     "text": [
      "18 2016-06-10 00:00:00\n"
     ]
    },
    {
     "name": "stderr",
     "output_type": "stream",
     "text": [
      "C:\\Users\\acherif003\\AppData\\Local\\Temp\\ipykernel_26320\\2130825514.py:32: FutureWarning: Series.dt.weekofyear and Series.dt.week have been deprecated. Please use Series.dt.isocalendar().week instead.\n",
      "  dt[date_feat_name] = getattr(dt[\"date\"].dt, date_feat_func).astype(\"int16\")\n"
     ]
    },
    {
     "name": "stdout",
     "output_type": "stream",
     "text": [
      "19 2016-06-11 00:00:00\n"
     ]
    },
    {
     "name": "stderr",
     "output_type": "stream",
     "text": [
      "C:\\Users\\acherif003\\AppData\\Local\\Temp\\ipykernel_26320\\2130825514.py:32: FutureWarning: Series.dt.weekofyear and Series.dt.week have been deprecated. Please use Series.dt.isocalendar().week instead.\n",
      "  dt[date_feat_name] = getattr(dt[\"date\"].dt, date_feat_func).astype(\"int16\")\n"
     ]
    },
    {
     "name": "stdout",
     "output_type": "stream",
     "text": [
      "20 2016-06-12 00:00:00\n"
     ]
    },
    {
     "name": "stderr",
     "output_type": "stream",
     "text": [
      "C:\\Users\\acherif003\\AppData\\Local\\Temp\\ipykernel_26320\\2130825514.py:32: FutureWarning: Series.dt.weekofyear and Series.dt.week have been deprecated. Please use Series.dt.isocalendar().week instead.\n",
      "  dt[date_feat_name] = getattr(dt[\"date\"].dt, date_feat_func).astype(\"int16\")\n"
     ]
    },
    {
     "name": "stdout",
     "output_type": "stream",
     "text": [
      "21 2016-06-13 00:00:00\n"
     ]
    },
    {
     "name": "stderr",
     "output_type": "stream",
     "text": [
      "C:\\Users\\acherif003\\AppData\\Local\\Temp\\ipykernel_26320\\2130825514.py:32: FutureWarning: Series.dt.weekofyear and Series.dt.week have been deprecated. Please use Series.dt.isocalendar().week instead.\n",
      "  dt[date_feat_name] = getattr(dt[\"date\"].dt, date_feat_func).astype(\"int16\")\n"
     ]
    },
    {
     "name": "stdout",
     "output_type": "stream",
     "text": [
      "22 2016-06-14 00:00:00\n"
     ]
    },
    {
     "name": "stderr",
     "output_type": "stream",
     "text": [
      "C:\\Users\\acherif003\\AppData\\Local\\Temp\\ipykernel_26320\\2130825514.py:32: FutureWarning: Series.dt.weekofyear and Series.dt.week have been deprecated. Please use Series.dt.isocalendar().week instead.\n",
      "  dt[date_feat_name] = getattr(dt[\"date\"].dt, date_feat_func).astype(\"int16\")\n"
     ]
    },
    {
     "name": "stdout",
     "output_type": "stream",
     "text": [
      "23 2016-06-15 00:00:00\n"
     ]
    },
    {
     "name": "stderr",
     "output_type": "stream",
     "text": [
      "C:\\Users\\acherif003\\AppData\\Local\\Temp\\ipykernel_26320\\2130825514.py:32: FutureWarning: Series.dt.weekofyear and Series.dt.week have been deprecated. Please use Series.dt.isocalendar().week instead.\n",
      "  dt[date_feat_name] = getattr(dt[\"date\"].dt, date_feat_func).astype(\"int16\")\n"
     ]
    },
    {
     "name": "stdout",
     "output_type": "stream",
     "text": [
      "24 2016-06-16 00:00:00\n"
     ]
    },
    {
     "name": "stderr",
     "output_type": "stream",
     "text": [
      "C:\\Users\\acherif003\\AppData\\Local\\Temp\\ipykernel_26320\\2130825514.py:32: FutureWarning: Series.dt.weekofyear and Series.dt.week have been deprecated. Please use Series.dt.isocalendar().week instead.\n",
      "  dt[date_feat_name] = getattr(dt[\"date\"].dt, date_feat_func).astype(\"int16\")\n"
     ]
    },
    {
     "name": "stdout",
     "output_type": "stream",
     "text": [
      "25 2016-06-17 00:00:00\n"
     ]
    },
    {
     "name": "stderr",
     "output_type": "stream",
     "text": [
      "C:\\Users\\acherif003\\AppData\\Local\\Temp\\ipykernel_26320\\2130825514.py:32: FutureWarning: Series.dt.weekofyear and Series.dt.week have been deprecated. Please use Series.dt.isocalendar().week instead.\n",
      "  dt[date_feat_name] = getattr(dt[\"date\"].dt, date_feat_func).astype(\"int16\")\n"
     ]
    },
    {
     "name": "stdout",
     "output_type": "stream",
     "text": [
      "26 2016-06-18 00:00:00\n"
     ]
    },
    {
     "name": "stderr",
     "output_type": "stream",
     "text": [
      "C:\\Users\\acherif003\\AppData\\Local\\Temp\\ipykernel_26320\\2130825514.py:32: FutureWarning: Series.dt.weekofyear and Series.dt.week have been deprecated. Please use Series.dt.isocalendar().week instead.\n",
      "  dt[date_feat_name] = getattr(dt[\"date\"].dt, date_feat_func).astype(\"int16\")\n"
     ]
    },
    {
     "name": "stdout",
     "output_type": "stream",
     "text": [
      "27 2016-06-19 00:00:00\n"
     ]
    },
    {
     "name": "stderr",
     "output_type": "stream",
     "text": [
      "C:\\Users\\acherif003\\AppData\\Local\\Temp\\ipykernel_26320\\2130825514.py:32: FutureWarning: Series.dt.weekofyear and Series.dt.week have been deprecated. Please use Series.dt.isocalendar().week instead.\n",
      "  dt[date_feat_name] = getattr(dt[\"date\"].dt, date_feat_func).astype(\"int16\")\n"
     ]
    },
    {
     "name": "stdout",
     "output_type": "stream",
     "text": [
      "2 1.013 0.3333333333333333\n",
      "(60980, 29)\n",
      "Wall time: 44min 24s\n"
     ]
    }
   ],
   "source": [
    "%%time\n",
    "\n",
    "alphas = [1.023, 1.018, 1.013] \n",
    "weights = [1/len(alphas)]*len(alphas)\n",
    "sub = 0.\n",
    "\n",
    "for icount, (alpha, weight) in enumerate(zip(alphas, weights)):\n",
    "\n",
    "    te = create_dt(False)\n",
    "    cols = [f\"F{i}\" for i in range(1,29)]\n",
    "\n",
    "    for tdelta in range(0, 28):\n",
    "        day = fday + timedelta(days=tdelta)\n",
    "        print(tdelta, day)\n",
    "        tst = te[(te.date >= day - timedelta(days=max_lags)) & (te.date <= day)].copy()\n",
    "        create_fea(tst)\n",
    "        tst = tst.loc[tst.date == day , train_cols]\n",
    "        te.loc[te.date == day, \"sales\"] = alpha*m_lgb.predict(tst)\n",
    "\n",
    "    te_sub = te.loc[te.date >= fday, [\"id\", \"sales\"]].copy()\n",
    "    te_sub[\"F\"] = [f\"F{rank}\" for rank in te_sub.groupby(\"id\")[\"id\"].cumcount()+1]\n",
    "    te_sub = te_sub.set_index([\"id\", \"F\" ]).unstack()[\"sales\"][cols].reset_index()\n",
    "    te_sub.fillna(0., inplace = True)\n",
    "    te_sub.sort_values(\"id\", inplace = True)\n",
    "    te_sub.reset_index(drop=True, inplace = True)\n",
    "    te_sub.to_csv(f\"submission_{icount}.csv\",index=False)\n",
    "    if icount == 0 :\n",
    "        sub = te_sub\n",
    "        sub[cols] *= weight\n",
    "    else:\n",
    "        sub[cols] += te_sub[cols]*weight\n",
    "    print(icount, alpha, weight)\n",
    "\n",
    "sub2 = pd.read_csv(\"C://Users/acherif003/Desktop/tp5/sales_train_evaluation.csv\", usecols = [\"id\"]+ [f\"d_{i}\" for i in range(1914, 1914+28)])\n",
    "sub2.rename(columns = {f\"d_{i}\": f'F{i-1913}' for i in range(1914, 1914+28)}, inplace=True)\n",
    "sub2[\"id\"] = sub2[\"id\"].str.replace(\"evaluation\", \"validation\")\n",
    "\n",
    "sub = pd.concat([sub, sub2], axis=0, sort=False)\n",
    "sub.to_csv(\"Output.csv\",index=False)\n",
    "print(sub.shape)"
   ]
  },
  {
   "cell_type": "code",
   "execution_count": 44,
   "metadata": {},
   "outputs": [
    {
     "data": {
      "text/html": [
       "<div>\n",
       "<style scoped>\n",
       "    .dataframe tbody tr th:only-of-type {\n",
       "        vertical-align: middle;\n",
       "    }\n",
       "\n",
       "    .dataframe tbody tr th {\n",
       "        vertical-align: top;\n",
       "    }\n",
       "\n",
       "    .dataframe thead th {\n",
       "        text-align: right;\n",
       "    }\n",
       "</style>\n",
       "<table border=\"1\" class=\"dataframe\">\n",
       "  <thead>\n",
       "    <tr style=\"text-align: right;\">\n",
       "      <th></th>\n",
       "      <th>id</th>\n",
       "      <th>F1</th>\n",
       "      <th>F2</th>\n",
       "      <th>F3</th>\n",
       "      <th>F4</th>\n",
       "      <th>F5</th>\n",
       "      <th>F6</th>\n",
       "      <th>F7</th>\n",
       "      <th>F8</th>\n",
       "      <th>F9</th>\n",
       "      <th>F10</th>\n",
       "      <th>F11</th>\n",
       "      <th>F12</th>\n",
       "      <th>F13</th>\n",
       "      <th>F14</th>\n",
       "      <th>F15</th>\n",
       "      <th>F16</th>\n",
       "      <th>F17</th>\n",
       "      <th>F18</th>\n",
       "      <th>F19</th>\n",
       "      <th>F20</th>\n",
       "      <th>F21</th>\n",
       "      <th>F22</th>\n",
       "      <th>F23</th>\n",
       "      <th>F24</th>\n",
       "      <th>F25</th>\n",
       "      <th>F26</th>\n",
       "      <th>F27</th>\n",
       "      <th>F28</th>\n",
       "    </tr>\n",
       "  </thead>\n",
       "  <tbody>\n",
       "    <tr>\n",
       "      <th>0</th>\n",
       "      <td>FOODS_1_001_CA_1_evaluation</td>\n",
       "      <td>0.865900</td>\n",
       "      <td>0.779055</td>\n",
       "      <td>0.769768</td>\n",
       "      <td>0.840996</td>\n",
       "      <td>0.895040</td>\n",
       "      <td>1.096308</td>\n",
       "      <td>0.955326</td>\n",
       "      <td>0.829218</td>\n",
       "      <td>0.789299</td>\n",
       "      <td>0.814155</td>\n",
       "      <td>0.827505</td>\n",
       "      <td>1.056479</td>\n",
       "      <td>1.173147</td>\n",
       "      <td>1.103428</td>\n",
       "      <td>0.826162</td>\n",
       "      <td>0.796831</td>\n",
       "      <td>0.791655</td>\n",
       "      <td>0.805542</td>\n",
       "      <td>0.952256</td>\n",
       "      <td>1.142077</td>\n",
       "      <td>1.085972</td>\n",
       "      <td>0.790117</td>\n",
       "      <td>0.754593</td>\n",
       "      <td>0.763986</td>\n",
       "      <td>0.764514</td>\n",
       "      <td>0.866599</td>\n",
       "      <td>1.093809</td>\n",
       "      <td>0.991384</td>\n",
       "    </tr>\n",
       "    <tr>\n",
       "      <th>1</th>\n",
       "      <td>FOODS_1_001_CA_2_evaluation</td>\n",
       "      <td>0.793123</td>\n",
       "      <td>0.808093</td>\n",
       "      <td>0.724637</td>\n",
       "      <td>0.703203</td>\n",
       "      <td>0.906018</td>\n",
       "      <td>1.238061</td>\n",
       "      <td>0.901941</td>\n",
       "      <td>0.912592</td>\n",
       "      <td>0.774597</td>\n",
       "      <td>0.864552</td>\n",
       "      <td>0.928318</td>\n",
       "      <td>1.109410</td>\n",
       "      <td>1.229035</td>\n",
       "      <td>1.147578</td>\n",
       "      <td>0.916493</td>\n",
       "      <td>0.922017</td>\n",
       "      <td>0.915004</td>\n",
       "      <td>0.927963</td>\n",
       "      <td>1.086141</td>\n",
       "      <td>1.321644</td>\n",
       "      <td>1.125077</td>\n",
       "      <td>0.796598</td>\n",
       "      <td>0.792116</td>\n",
       "      <td>0.800336</td>\n",
       "      <td>0.757669</td>\n",
       "      <td>0.905769</td>\n",
       "      <td>1.187528</td>\n",
       "      <td>1.084849</td>\n",
       "    </tr>\n",
       "    <tr>\n",
       "      <th>2</th>\n",
       "      <td>FOODS_1_001_CA_3_evaluation</td>\n",
       "      <td>0.832919</td>\n",
       "      <td>0.790864</td>\n",
       "      <td>0.772218</td>\n",
       "      <td>0.724634</td>\n",
       "      <td>1.109491</td>\n",
       "      <td>1.258044</td>\n",
       "      <td>1.252173</td>\n",
       "      <td>0.976988</td>\n",
       "      <td>0.957538</td>\n",
       "      <td>0.969670</td>\n",
       "      <td>0.988214</td>\n",
       "      <td>1.138735</td>\n",
       "      <td>1.244104</td>\n",
       "      <td>1.241635</td>\n",
       "      <td>0.989509</td>\n",
       "      <td>0.992800</td>\n",
       "      <td>0.974018</td>\n",
       "      <td>0.980863</td>\n",
       "      <td>1.081860</td>\n",
       "      <td>1.345778</td>\n",
       "      <td>1.256159</td>\n",
       "      <td>1.008290</td>\n",
       "      <td>1.159358</td>\n",
       "      <td>1.178789</td>\n",
       "      <td>0.953808</td>\n",
       "      <td>0.986663</td>\n",
       "      <td>1.223144</td>\n",
       "      <td>1.221938</td>\n",
       "    </tr>\n",
       "    <tr>\n",
       "      <th>3</th>\n",
       "      <td>FOODS_1_001_CA_4_evaluation</td>\n",
       "      <td>0.298126</td>\n",
       "      <td>0.295922</td>\n",
       "      <td>0.316381</td>\n",
       "      <td>0.334413</td>\n",
       "      <td>0.345907</td>\n",
       "      <td>0.374495</td>\n",
       "      <td>0.333168</td>\n",
       "      <td>0.298876</td>\n",
       "      <td>0.321787</td>\n",
       "      <td>0.331031</td>\n",
       "      <td>0.329837</td>\n",
       "      <td>0.384783</td>\n",
       "      <td>0.382452</td>\n",
       "      <td>0.381945</td>\n",
       "      <td>0.339943</td>\n",
       "      <td>0.327976</td>\n",
       "      <td>0.339271</td>\n",
       "      <td>0.359506</td>\n",
       "      <td>0.376145</td>\n",
       "      <td>0.415718</td>\n",
       "      <td>0.421917</td>\n",
       "      <td>0.337733</td>\n",
       "      <td>0.337550</td>\n",
       "      <td>0.356003</td>\n",
       "      <td>0.364019</td>\n",
       "      <td>0.369468</td>\n",
       "      <td>0.392044</td>\n",
       "      <td>0.362384</td>\n",
       "    </tr>\n",
       "    <tr>\n",
       "      <th>4</th>\n",
       "      <td>FOODS_1_001_TX_1_evaluation</td>\n",
       "      <td>0.484101</td>\n",
       "      <td>0.686303</td>\n",
       "      <td>0.461622</td>\n",
       "      <td>0.571332</td>\n",
       "      <td>0.679852</td>\n",
       "      <td>0.739840</td>\n",
       "      <td>0.744418</td>\n",
       "      <td>0.611777</td>\n",
       "      <td>0.540403</td>\n",
       "      <td>0.691124</td>\n",
       "      <td>0.663461</td>\n",
       "      <td>0.760012</td>\n",
       "      <td>0.867110</td>\n",
       "      <td>0.810766</td>\n",
       "      <td>0.670739</td>\n",
       "      <td>0.671556</td>\n",
       "      <td>0.668810</td>\n",
       "      <td>0.730181</td>\n",
       "      <td>0.766826</td>\n",
       "      <td>0.948054</td>\n",
       "      <td>0.864947</td>\n",
       "      <td>0.709272</td>\n",
       "      <td>0.699444</td>\n",
       "      <td>0.702335</td>\n",
       "      <td>0.698409</td>\n",
       "      <td>0.760584</td>\n",
       "      <td>0.936244</td>\n",
       "      <td>0.895738</td>\n",
       "    </tr>\n",
       "    <tr>\n",
       "      <th>5</th>\n",
       "      <td>FOODS_1_001_TX_2_evaluation</td>\n",
       "      <td>0.401292</td>\n",
       "      <td>0.386367</td>\n",
       "      <td>0.381627</td>\n",
       "      <td>0.340092</td>\n",
       "      <td>0.406053</td>\n",
       "      <td>0.480342</td>\n",
       "      <td>0.457993</td>\n",
       "      <td>0.372534</td>\n",
       "      <td>0.383351</td>\n",
       "      <td>0.456865</td>\n",
       "      <td>0.439890</td>\n",
       "      <td>0.565390</td>\n",
       "      <td>0.581329</td>\n",
       "      <td>0.502756</td>\n",
       "      <td>0.426738</td>\n",
       "      <td>0.420675</td>\n",
       "      <td>0.412262</td>\n",
       "      <td>0.444567</td>\n",
       "      <td>0.472110</td>\n",
       "      <td>0.585332</td>\n",
       "      <td>0.496193</td>\n",
       "      <td>0.433239</td>\n",
       "      <td>0.414244</td>\n",
       "      <td>0.407627</td>\n",
       "      <td>0.407409</td>\n",
       "      <td>0.458267</td>\n",
       "      <td>0.526023</td>\n",
       "      <td>0.457287</td>\n",
       "    </tr>\n",
       "    <tr>\n",
       "      <th>6</th>\n",
       "      <td>FOODS_1_001_TX_3_evaluation</td>\n",
       "      <td>0.420917</td>\n",
       "      <td>0.385279</td>\n",
       "      <td>0.433967</td>\n",
       "      <td>0.429826</td>\n",
       "      <td>0.484719</td>\n",
       "      <td>0.516253</td>\n",
       "      <td>0.445542</td>\n",
       "      <td>0.390729</td>\n",
       "      <td>0.404836</td>\n",
       "      <td>0.522198</td>\n",
       "      <td>0.508594</td>\n",
       "      <td>0.597796</td>\n",
       "      <td>0.584945</td>\n",
       "      <td>0.550840</td>\n",
       "      <td>0.447284</td>\n",
       "      <td>0.447931</td>\n",
       "      <td>0.471883</td>\n",
       "      <td>0.466875</td>\n",
       "      <td>0.510211</td>\n",
       "      <td>0.573242</td>\n",
       "      <td>0.523884</td>\n",
       "      <td>0.444768</td>\n",
       "      <td>0.434753</td>\n",
       "      <td>0.465112</td>\n",
       "      <td>0.417649</td>\n",
       "      <td>0.468962</td>\n",
       "      <td>0.525011</td>\n",
       "      <td>0.458974</td>\n",
       "    </tr>\n",
       "    <tr>\n",
       "      <th>7</th>\n",
       "      <td>FOODS_1_001_WI_1_evaluation</td>\n",
       "      <td>0.483635</td>\n",
       "      <td>0.462978</td>\n",
       "      <td>0.469422</td>\n",
       "      <td>0.470910</td>\n",
       "      <td>0.561769</td>\n",
       "      <td>0.629048</td>\n",
       "      <td>0.548744</td>\n",
       "      <td>0.456479</td>\n",
       "      <td>0.473542</td>\n",
       "      <td>0.521089</td>\n",
       "      <td>0.528193</td>\n",
       "      <td>0.656301</td>\n",
       "      <td>0.690126</td>\n",
       "      <td>0.632182</td>\n",
       "      <td>0.483312</td>\n",
       "      <td>0.505332</td>\n",
       "      <td>0.510290</td>\n",
       "      <td>0.524832</td>\n",
       "      <td>0.633027</td>\n",
       "      <td>0.766535</td>\n",
       "      <td>0.692904</td>\n",
       "      <td>0.521105</td>\n",
       "      <td>0.505051</td>\n",
       "      <td>0.517021</td>\n",
       "      <td>0.530618</td>\n",
       "      <td>0.614515</td>\n",
       "      <td>0.659239</td>\n",
       "      <td>0.547168</td>\n",
       "    </tr>\n",
       "    <tr>\n",
       "      <th>8</th>\n",
       "      <td>FOODS_1_001_WI_2_evaluation</td>\n",
       "      <td>0.432714</td>\n",
       "      <td>0.441159</td>\n",
       "      <td>0.613764</td>\n",
       "      <td>0.553207</td>\n",
       "      <td>0.692410</td>\n",
       "      <td>0.749952</td>\n",
       "      <td>0.712340</td>\n",
       "      <td>0.536210</td>\n",
       "      <td>0.584919</td>\n",
       "      <td>0.729156</td>\n",
       "      <td>0.790405</td>\n",
       "      <td>1.017887</td>\n",
       "      <td>0.970879</td>\n",
       "      <td>0.846698</td>\n",
       "      <td>0.757457</td>\n",
       "      <td>0.683392</td>\n",
       "      <td>0.780547</td>\n",
       "      <td>0.804006</td>\n",
       "      <td>0.788880</td>\n",
       "      <td>0.881303</td>\n",
       "      <td>0.803928</td>\n",
       "      <td>0.656911</td>\n",
       "      <td>0.764046</td>\n",
       "      <td>0.799845</td>\n",
       "      <td>0.702475</td>\n",
       "      <td>0.758308</td>\n",
       "      <td>0.833904</td>\n",
       "      <td>0.769908</td>\n",
       "    </tr>\n",
       "    <tr>\n",
       "      <th>9</th>\n",
       "      <td>FOODS_1_001_WI_3_evaluation</td>\n",
       "      <td>0.278774</td>\n",
       "      <td>0.280854</td>\n",
       "      <td>0.284412</td>\n",
       "      <td>0.308033</td>\n",
       "      <td>0.352317</td>\n",
       "      <td>0.370674</td>\n",
       "      <td>0.324702</td>\n",
       "      <td>0.274988</td>\n",
       "      <td>0.301160</td>\n",
       "      <td>0.345430</td>\n",
       "      <td>0.337359</td>\n",
       "      <td>0.446665</td>\n",
       "      <td>0.429557</td>\n",
       "      <td>0.387248</td>\n",
       "      <td>0.316527</td>\n",
       "      <td>0.302452</td>\n",
       "      <td>0.327821</td>\n",
       "      <td>0.334349</td>\n",
       "      <td>0.375140</td>\n",
       "      <td>0.430318</td>\n",
       "      <td>0.393836</td>\n",
       "      <td>0.313082</td>\n",
       "      <td>0.337020</td>\n",
       "      <td>0.364711</td>\n",
       "      <td>0.339579</td>\n",
       "      <td>0.365402</td>\n",
       "      <td>0.384073</td>\n",
       "      <td>0.312037</td>\n",
       "    </tr>\n",
       "  </tbody>\n",
       "</table>\n",
       "</div>"
      ],
      "text/plain": [
       "                            id        F1        F2        F3        F4  \\\n",
       "0  FOODS_1_001_CA_1_evaluation  0.865900  0.779055  0.769768  0.840996   \n",
       "1  FOODS_1_001_CA_2_evaluation  0.793123  0.808093  0.724637  0.703203   \n",
       "2  FOODS_1_001_CA_3_evaluation  0.832919  0.790864  0.772218  0.724634   \n",
       "3  FOODS_1_001_CA_4_evaluation  0.298126  0.295922  0.316381  0.334413   \n",
       "4  FOODS_1_001_TX_1_evaluation  0.484101  0.686303  0.461622  0.571332   \n",
       "5  FOODS_1_001_TX_2_evaluation  0.401292  0.386367  0.381627  0.340092   \n",
       "6  FOODS_1_001_TX_3_evaluation  0.420917  0.385279  0.433967  0.429826   \n",
       "7  FOODS_1_001_WI_1_evaluation  0.483635  0.462978  0.469422  0.470910   \n",
       "8  FOODS_1_001_WI_2_evaluation  0.432714  0.441159  0.613764  0.553207   \n",
       "9  FOODS_1_001_WI_3_evaluation  0.278774  0.280854  0.284412  0.308033   \n",
       "\n",
       "         F5        F6        F7        F8        F9       F10       F11  \\\n",
       "0  0.895040  1.096308  0.955326  0.829218  0.789299  0.814155  0.827505   \n",
       "1  0.906018  1.238061  0.901941  0.912592  0.774597  0.864552  0.928318   \n",
       "2  1.109491  1.258044  1.252173  0.976988  0.957538  0.969670  0.988214   \n",
       "3  0.345907  0.374495  0.333168  0.298876  0.321787  0.331031  0.329837   \n",
       "4  0.679852  0.739840  0.744418  0.611777  0.540403  0.691124  0.663461   \n",
       "5  0.406053  0.480342  0.457993  0.372534  0.383351  0.456865  0.439890   \n",
       "6  0.484719  0.516253  0.445542  0.390729  0.404836  0.522198  0.508594   \n",
       "7  0.561769  0.629048  0.548744  0.456479  0.473542  0.521089  0.528193   \n",
       "8  0.692410  0.749952  0.712340  0.536210  0.584919  0.729156  0.790405   \n",
       "9  0.352317  0.370674  0.324702  0.274988  0.301160  0.345430  0.337359   \n",
       "\n",
       "        F12       F13       F14       F15       F16       F17       F18  \\\n",
       "0  1.056479  1.173147  1.103428  0.826162  0.796831  0.791655  0.805542   \n",
       "1  1.109410  1.229035  1.147578  0.916493  0.922017  0.915004  0.927963   \n",
       "2  1.138735  1.244104  1.241635  0.989509  0.992800  0.974018  0.980863   \n",
       "3  0.384783  0.382452  0.381945  0.339943  0.327976  0.339271  0.359506   \n",
       "4  0.760012  0.867110  0.810766  0.670739  0.671556  0.668810  0.730181   \n",
       "5  0.565390  0.581329  0.502756  0.426738  0.420675  0.412262  0.444567   \n",
       "6  0.597796  0.584945  0.550840  0.447284  0.447931  0.471883  0.466875   \n",
       "7  0.656301  0.690126  0.632182  0.483312  0.505332  0.510290  0.524832   \n",
       "8  1.017887  0.970879  0.846698  0.757457  0.683392  0.780547  0.804006   \n",
       "9  0.446665  0.429557  0.387248  0.316527  0.302452  0.327821  0.334349   \n",
       "\n",
       "        F19       F20       F21       F22       F23       F24       F25  \\\n",
       "0  0.952256  1.142077  1.085972  0.790117  0.754593  0.763986  0.764514   \n",
       "1  1.086141  1.321644  1.125077  0.796598  0.792116  0.800336  0.757669   \n",
       "2  1.081860  1.345778  1.256159  1.008290  1.159358  1.178789  0.953808   \n",
       "3  0.376145  0.415718  0.421917  0.337733  0.337550  0.356003  0.364019   \n",
       "4  0.766826  0.948054  0.864947  0.709272  0.699444  0.702335  0.698409   \n",
       "5  0.472110  0.585332  0.496193  0.433239  0.414244  0.407627  0.407409   \n",
       "6  0.510211  0.573242  0.523884  0.444768  0.434753  0.465112  0.417649   \n",
       "7  0.633027  0.766535  0.692904  0.521105  0.505051  0.517021  0.530618   \n",
       "8  0.788880  0.881303  0.803928  0.656911  0.764046  0.799845  0.702475   \n",
       "9  0.375140  0.430318  0.393836  0.313082  0.337020  0.364711  0.339579   \n",
       "\n",
       "        F26       F27       F28  \n",
       "0  0.866599  1.093809  0.991384  \n",
       "1  0.905769  1.187528  1.084849  \n",
       "2  0.986663  1.223144  1.221938  \n",
       "3  0.369468  0.392044  0.362384  \n",
       "4  0.760584  0.936244  0.895738  \n",
       "5  0.458267  0.526023  0.457287  \n",
       "6  0.468962  0.525011  0.458974  \n",
       "7  0.614515  0.659239  0.547168  \n",
       "8  0.758308  0.833904  0.769908  \n",
       "9  0.365402  0.384073  0.312037  "
      ]
     },
     "execution_count": 44,
     "metadata": {},
     "output_type": "execute_result"
    }
   ],
   "source": [
    "sub.head(10)"
   ]
  },
  {
   "cell_type": "code",
   "execution_count": 45,
   "metadata": {},
   "outputs": [
    {
     "data": {
      "text/plain": [
       "(60980, 30490)"
      ]
     },
     "execution_count": 45,
     "metadata": {},
     "output_type": "execute_result"
    }
   ],
   "source": [
    "sub.id.nunique(), sub[\"id\"].str.contains(\"evaluation$\").sum()"
   ]
  },
  {
   "cell_type": "code",
   "execution_count": null,
   "metadata": {},
   "outputs": [],
   "source": []
  }
 ],
 "metadata": {
  "kernelspec": {
   "display_name": "Python 3 (ipykernel)",
   "language": "python",
   "name": "python3"
  },
  "language_info": {
   "codemirror_mode": {
    "name": "ipython",
    "version": 3
   },
   "file_extension": ".py",
   "mimetype": "text/x-python",
   "name": "python",
   "nbconvert_exporter": "python",
   "pygments_lexer": "ipython3",
   "version": "3.9.13"
  }
 },
 "nbformat": 4,
 "nbformat_minor": 4
}
